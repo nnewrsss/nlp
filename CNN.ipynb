{
 "cells": [
  {
   "cell_type": "code",
   "execution_count": 41,
   "metadata": {},
   "outputs": [],
   "source": [
    "# 1. Import libraries\n",
    "import pandas as pd\n",
    "from sklearn.model_selection import train_test_split\n",
    "from sklearn.preprocessing import LabelEncoder\n",
    "from pythainlp.tokenize import word_tokenize\n",
    "from pythainlp.corpus import thai_stopwords\n",
    "from tensorflow.keras.preprocessing.text import Tokenizer\n",
    "from tensorflow.keras.preprocessing.sequence import pad_sequences\n",
    "from tensorflow.keras.models import Sequential\n",
    "from tensorflow.keras.layers import Embedding, LSTM, Dense, Conv1D, MaxPooling1D, Flatten, Dropout\n",
    "from sklearn.metrics import classification_report, accuracy_score\n",
    "import re\n",
    "from collections import Counter\n",
    "import ast\n"
   ]
  },
  {
   "cell_type": "code",
   "execution_count": 2,
   "metadata": {},
   "outputs": [
    {
     "name": "stdout",
     "output_type": "stream",
     "text": [
      "ข้อมูลต้นฉบับ:\n"
     ]
    },
    {
     "data": {
      "text/html": [
       "<div>\n",
       "<style scoped>\n",
       "    .dataframe tbody tr th:only-of-type {\n",
       "        vertical-align: middle;\n",
       "    }\n",
       "\n",
       "    .dataframe tbody tr th {\n",
       "        vertical-align: top;\n",
       "    }\n",
       "\n",
       "    .dataframe thead th {\n",
       "        text-align: right;\n",
       "    }\n",
       "</style>\n",
       "<table border=\"1\" class=\"dataframe\">\n",
       "  <thead>\n",
       "    <tr style=\"text-align: right;\">\n",
       "      <th></th>\n",
       "      <th>url</th>\n",
       "      <th>date</th>\n",
       "      <th>title</th>\n",
       "      <th>body_text</th>\n",
       "      <th>labels</th>\n",
       "    </tr>\n",
       "  </thead>\n",
       "  <tbody>\n",
       "    <tr>\n",
       "      <th>0</th>\n",
       "      <td>https://prachatai.com/print/42</td>\n",
       "      <td>2004-08-24 14:31</td>\n",
       "      <td>นักวิจัยหนุน  \"แม้ว\"  เปิด  \"จีเอ็มโอ\"</td>\n",
       "      <td>ประชาไท --- 23 ส.ค.2547  นักวิจัยฯ ชี้นโยบายจี...</td>\n",
       "      <td>['ข่าว', 'สิ่งแวดล้อม']</td>\n",
       "    </tr>\n",
       "    <tr>\n",
       "      <th>1</th>\n",
       "      <td>https://prachatai.com/print/41</td>\n",
       "      <td>2004-08-24 14:22</td>\n",
       "      <td>ภาคประชาชนต้านเปิดเสรีจีเอ็มโอ</td>\n",
       "      <td>ประชาไท- 23 ส.ค.2547   นักวิชาการ ภาคประชาชน จ...</td>\n",
       "      <td>['ข่าว', 'สิ่งแวดล้อม']</td>\n",
       "    </tr>\n",
       "    <tr>\n",
       "      <th>2</th>\n",
       "      <td>https://prachatai.com/print/43</td>\n",
       "      <td>2004-08-24 15:17</td>\n",
       "      <td>จุฬาฯ ห่วงจีเอ็มโอลามข้าวไทย</td>\n",
       "      <td>นโยบายที่อนุญาตให้ปลูกร่วมกับพืชอื่นได้นั้นถื...</td>\n",
       "      <td>['ข่าว', 'สิ่งแวดล้อม']</td>\n",
       "    </tr>\n",
       "    <tr>\n",
       "      <th>3</th>\n",
       "      <td>https://prachatai.com/print/45</td>\n",
       "      <td>2004-08-24 15:58</td>\n",
       "      <td>ฟองสบู่การเมืองแตก ทักษิณหมดกึ๋น ชนชั้นกลางหมด...</td>\n",
       "      <td>ประชาไท -- 23 ส.ค. 47  ขาประจำทักษิณ ฟันธง ฟอง...</td>\n",
       "      <td>['ข่าว', 'การเมือง', 'คณะเศรษฐศาสตร์ มหาวิทยาล...</td>\n",
       "    </tr>\n",
       "    <tr>\n",
       "      <th>4</th>\n",
       "      <td>https://prachatai.com/print/47</td>\n",
       "      <td>2004-08-24 16:10</td>\n",
       "      <td>กอต.เสนอเลิกถนนคลองลาน-อุ้มผาง</td>\n",
       "      <td>ประชาไท-23 ส.ค.47  คณะกรรมการอนุรักษ์ ผืนป่าตะ...</td>\n",
       "      <td>['ข่าว', 'สิ่งแวดล้อม']</td>\n",
       "    </tr>\n",
       "  </tbody>\n",
       "</table>\n",
       "</div>"
      ],
      "text/plain": [
       "                              url              date  \\\n",
       "0  https://prachatai.com/print/42  2004-08-24 14:31   \n",
       "1  https://prachatai.com/print/41  2004-08-24 14:22   \n",
       "2  https://prachatai.com/print/43  2004-08-24 15:17   \n",
       "3  https://prachatai.com/print/45  2004-08-24 15:58   \n",
       "4  https://prachatai.com/print/47  2004-08-24 16:10   \n",
       "\n",
       "                                               title  \\\n",
       "0             นักวิจัยหนุน  \"แม้ว\"  เปิด  \"จีเอ็มโอ\"   \n",
       "1                     ภาคประชาชนต้านเปิดเสรีจีเอ็มโอ   \n",
       "2                       จุฬาฯ ห่วงจีเอ็มโอลามข้าวไทย   \n",
       "3  ฟองสบู่การเมืองแตก ทักษิณหมดกึ๋น ชนชั้นกลางหมด...   \n",
       "4                     กอต.เสนอเลิกถนนคลองลาน-อุ้มผาง   \n",
       "\n",
       "                                           body_text  \\\n",
       "0  ประชาไท --- 23 ส.ค.2547  นักวิจัยฯ ชี้นโยบายจี...   \n",
       "1  ประชาไท- 23 ส.ค.2547   นักวิชาการ ภาคประชาชน จ...   \n",
       "2   นโยบายที่อนุญาตให้ปลูกร่วมกับพืชอื่นได้นั้นถื...   \n",
       "3  ประชาไท -- 23 ส.ค. 47  ขาประจำทักษิณ ฟันธง ฟอง...   \n",
       "4  ประชาไท-23 ส.ค.47  คณะกรรมการอนุรักษ์ ผืนป่าตะ...   \n",
       "\n",
       "                                              labels  \n",
       "0                            ['ข่าว', 'สิ่งแวดล้อม']  \n",
       "1                            ['ข่าว', 'สิ่งแวดล้อม']  \n",
       "2                            ['ข่าว', 'สิ่งแวดล้อม']  \n",
       "3  ['ข่าว', 'การเมือง', 'คณะเศรษฐศาสตร์ มหาวิทยาล...  \n",
       "4                            ['ข่าว', 'สิ่งแวดล้อม']  "
      ]
     },
     "execution_count": 2,
     "metadata": {},
     "output_type": "execute_result"
    }
   ],
   "source": [
    "# 2. Read the dataset\n",
    "data_df = pd.read_csv('data.csv')\n",
    "print(\"ข้อมูลต้นฉบับ:\")\n",
    "data_df.head()"
   ]
  },
  {
   "cell_type": "code",
   "execution_count": 3,
   "metadata": {},
   "outputs": [
    {
     "name": "stdout",
     "output_type": "stream",
     "text": [
      "\n",
      "ข้อมูลหลังจากรวมข้อความและลบคอลัมน์ที่ไม่จำเป็น:\n"
     ]
    },
    {
     "data": {
      "text/html": [
       "<div>\n",
       "<style scoped>\n",
       "    .dataframe tbody tr th:only-of-type {\n",
       "        vertical-align: middle;\n",
       "    }\n",
       "\n",
       "    .dataframe tbody tr th {\n",
       "        vertical-align: top;\n",
       "    }\n",
       "\n",
       "    .dataframe thead th {\n",
       "        text-align: right;\n",
       "    }\n",
       "</style>\n",
       "<table border=\"1\" class=\"dataframe\">\n",
       "  <thead>\n",
       "    <tr style=\"text-align: right;\">\n",
       "      <th></th>\n",
       "      <th>labels</th>\n",
       "      <th>combined_text</th>\n",
       "    </tr>\n",
       "  </thead>\n",
       "  <tbody>\n",
       "    <tr>\n",
       "      <th>0</th>\n",
       "      <td>['ข่าว', 'สิ่งแวดล้อม']</td>\n",
       "      <td>นักวิจัยหนุน  \"แม้ว\"  เปิด  \"จีเอ็มโอ\" ประชาไท...</td>\n",
       "    </tr>\n",
       "    <tr>\n",
       "      <th>1</th>\n",
       "      <td>['ข่าว', 'สิ่งแวดล้อม']</td>\n",
       "      <td>ภาคประชาชนต้านเปิดเสรีจีเอ็มโอ ประชาไท- 23 ส.ค...</td>\n",
       "    </tr>\n",
       "    <tr>\n",
       "      <th>2</th>\n",
       "      <td>['ข่าว', 'สิ่งแวดล้อม']</td>\n",
       "      <td>จุฬาฯ ห่วงจีเอ็มโอลามข้าวไทย  นโยบายที่อนุญาตใ...</td>\n",
       "    </tr>\n",
       "    <tr>\n",
       "      <th>3</th>\n",
       "      <td>['ข่าว', 'การเมือง', 'คณะเศรษฐศาสตร์ มหาวิทยาล...</td>\n",
       "      <td>ฟองสบู่การเมืองแตก ทักษิณหมดกึ๋น ชนชั้นกลางหมด...</td>\n",
       "    </tr>\n",
       "    <tr>\n",
       "      <th>4</th>\n",
       "      <td>['ข่าว', 'สิ่งแวดล้อม']</td>\n",
       "      <td>กอต.เสนอเลิกถนนคลองลาน-อุ้มผาง ประชาไท-23 ส.ค....</td>\n",
       "    </tr>\n",
       "  </tbody>\n",
       "</table>\n",
       "</div>"
      ],
      "text/plain": [
       "                                              labels  \\\n",
       "0                            ['ข่าว', 'สิ่งแวดล้อม']   \n",
       "1                            ['ข่าว', 'สิ่งแวดล้อม']   \n",
       "2                            ['ข่าว', 'สิ่งแวดล้อม']   \n",
       "3  ['ข่าว', 'การเมือง', 'คณะเศรษฐศาสตร์ มหาวิทยาล...   \n",
       "4                            ['ข่าว', 'สิ่งแวดล้อม']   \n",
       "\n",
       "                                       combined_text  \n",
       "0  นักวิจัยหนุน  \"แม้ว\"  เปิด  \"จีเอ็มโอ\" ประชาไท...  \n",
       "1  ภาคประชาชนต้านเปิดเสรีจีเอ็มโอ ประชาไท- 23 ส.ค...  \n",
       "2  จุฬาฯ ห่วงจีเอ็มโอลามข้าวไทย  นโยบายที่อนุญาตใ...  \n",
       "3  ฟองสบู่การเมืองแตก ทักษิณหมดกึ๋น ชนชั้นกลางหมด...  \n",
       "4  กอต.เสนอเลิกถนนคลองลาน-อุ้มผาง ประชาไท-23 ส.ค....  "
      ]
     },
     "execution_count": 3,
     "metadata": {},
     "output_type": "execute_result"
    }
   ],
   "source": [
    "# 3. Combine 'title' and 'body_text' into 'combined_text' and drop unnecessary columns\n",
    "data_df['combined_text'] = data_df['title'] + ' ' + data_df['body_text']\n",
    "data_df = data_df.drop(columns=['url', 'date', 'title', 'body_text'])\n",
    "print(\"\\nข้อมูลหลังจากรวมข้อความและลบคอลัมน์ที่ไม่จำเป็น:\")\n",
    "data_df.head()"
   ]
  },
  {
   "cell_type": "code",
   "execution_count": 4,
   "metadata": {},
   "outputs": [
    {
     "name": "stdout",
     "output_type": "stream",
     "text": [
      "\n",
      "ตรวจสอบชนิดข้อมูลในคอลัมน์ 'labels':\n",
      "0                                  [ข่าว, สิ่งแวดล้อม]\n",
      "1                                  [ข่าว, สิ่งแวดล้อม]\n",
      "2                                  [ข่าว, สิ่งแวดล้อม]\n",
      "3    [ข่าว, การเมือง, คณะเศรษฐศาสตร์ มหาวิทยาลัยธรร...\n",
      "4                                  [ข่าว, สิ่งแวดล้อม]\n",
      "Name: labels, dtype: object\n"
     ]
    }
   ],
   "source": [
    "# 4. Count individual label frequencies and filter labels with at least min_label_count\n",
    "# แปลงคอลัมน์ 'labels' จาก string เป็น list ถ้ายังไม่ได้ทำ\n",
    "data_df['labels'] = data_df['labels'].apply(ast.literal_eval)\n",
    "\n",
    "# ตรวจสอบว่าคอลัมน์ 'labels' เป็น list จริง ๆ\n",
    "print(\"\\nตรวจสอบชนิดข้อมูลในคอลัมน์ 'labels':\")\n",
    "print(data_df['labels'].iloc[:5])\n"
   ]
  },
  {
   "cell_type": "code",
   "execution_count": 5,
   "metadata": {},
   "outputs": [
    {
     "name": "stdout",
     "output_type": "stream",
     "text": [
      "\n",
      "ตัวอย่างข้อมูลในคอลัมน์ 'labels' หลังการแปลง:\n",
      "0                                  [ข่าว, สิ่งแวดล้อม]\n",
      "1                                  [ข่าว, สิ่งแวดล้อม]\n",
      "2                                  [ข่าว, สิ่งแวดล้อม]\n",
      "3    [ข่าว, การเมือง, คณะเศรษฐศาสตร์ มหาวิทยาลัยธรร...\n",
      "4                                  [ข่าว, สิ่งแวดล้อม]\n",
      "5                                  [ข่าว, สิ่งแวดล้อม]\n",
      "6    [ข่าว, การเมือง, ชนชั้นกลาง, ทักษิณ ชินวัตร, ท...\n",
      "7                                  [ข่าว, สิ่งแวดล้อม]\n",
      "8                                  [ข่าว, สิ่งแวดล้อม]\n",
      "9                                             [บทความ]\n",
      "Name: labels, dtype: object\n"
     ]
    }
   ],
   "source": [
    "# ตรวจสอบว่าทุกแถวเป็น list ของ string\n",
    "print(\"\\nตัวอย่างข้อมูลในคอลัมน์ 'labels' หลังการแปลง:\")\n",
    "print(data_df['labels'].iloc[:10])\n"
   ]
  },
  {
   "cell_type": "code",
   "execution_count": 6,
   "metadata": {},
   "outputs": [
    {
     "name": "stdout",
     "output_type": "stream",
     "text": [
      "\n",
      "ตัวอย่างข้อมูลในคอลัมน์ 'labels' หลังการ flatten:\n",
      "0                                  [ข่าว, สิ่งแวดล้อม]\n",
      "1                                  [ข่าว, สิ่งแวดล้อม]\n",
      "2                                  [ข่าว, สิ่งแวดล้อม]\n",
      "3    [ข่าว, การเมือง, คณะเศรษฐศาสตร์ มหาวิทยาลัยธรร...\n",
      "4                                  [ข่าว, สิ่งแวดล้อม]\n",
      "5                                  [ข่าว, สิ่งแวดล้อม]\n",
      "6    [ข่าว, การเมือง, ชนชั้นกลาง, ทักษิณ ชินวัตร, ท...\n",
      "7                                  [ข่าว, สิ่งแวดล้อม]\n",
      "8                                  [ข่าว, สิ่งแวดล้อม]\n",
      "9                                             [บทความ]\n",
      "Name: labels, dtype: object\n"
     ]
    }
   ],
   "source": [
    "# ตรวจสอบและแก้ไขป้ายกำกับที่เป็น nested lists\n",
    "def flatten_labels(labels):\n",
    "    if isinstance(labels, list):\n",
    "        return [item for sublist in labels for item in (sublist if isinstance(sublist, list) else [sublist])]\n",
    "    return []\n",
    "\n",
    "data_df['labels'] = data_df['labels'].apply(flatten_labels)\n",
    "\n",
    "# ตรวจสอบอีกครั้ง\n",
    "print(\"\\nตัวอย่างข้อมูลในคอลัมน์ 'labels' หลังการ flatten:\")\n",
    "print(data_df['labels'].iloc[:10])\n"
   ]
  },
  {
   "cell_type": "code",
   "execution_count": 7,
   "metadata": {},
   "outputs": [
    {
     "name": "stdout",
     "output_type": "stream",
     "text": [
      "\n",
      "จำนวนแต่ละ label ก่อนการกรอง:\n",
      "labels\n",
      "ข่าว                      53448\n",
      "การเมือง                  39124\n",
      "สิทธิมนุษยชน              15067\n",
      "คุณภาพชีวิต               11316\n",
      "บทความ                     9571\n",
      "                          ...  \n",
      "เทวาลัย                       1\n",
      "เครื่องฉีดน้ำแรงดันสูง        1\n",
      "อักษรศาสตร์                   1\n",
      "รอยพญานาค                     1\n",
      "วันประกาศเอกราช               1\n",
      "Name: count, Length: 51797, dtype: int64\n"
     ]
    }
   ],
   "source": [
    "# แปลงแต่ละป้ายกำกับให้อยู่ในแถวแยกกัน\n",
    "labels_exploded = data_df.explode('labels')\n",
    "\n",
    "# นับความถี่ของแต่ละป้ายกำกับ\n",
    "label_counts = labels_exploded['labels'].value_counts()\n",
    "print(\"\\nจำนวนแต่ละ label ก่อนการกรอง:\")\n",
    "print(label_counts)\n"
   ]
  },
  {
   "cell_type": "code",
   "execution_count": 8,
   "metadata": {},
   "outputs": [],
   "source": [
    "desired_labels = ['ข่าว', 'สิ่งแวดล้อม', 'บทความ', 'การเมือง','คุณภาพชีวิต','สิทธิมนุษยชน']  # ปรับตามความต้องการของคุณ\n"
   ]
  },
  {
   "cell_type": "code",
   "execution_count": 9,
   "metadata": {},
   "outputs": [
    {
     "name": "stdout",
     "output_type": "stream",
     "text": [
      "\n",
      "Labels ที่จะเก็บ:\n",
      "['ข่าว', 'การเมือง', 'สิทธิมนุษยชน', 'คุณภาพชีวิต', 'บทความ', 'สิ่งแวดล้อม']\n"
     ]
    }
   ],
   "source": [
    "# กำหนดค่าต่ำสุดสำหรับจำนวน labels\n",
    "# min_label_count = 50  # คุณสามารถปรับค่าตามต้องการ\n",
    "\n",
    "# กำหนด labels ที่จะเก็บ\n",
    "labels_to_keep = [label for label in label_counts.index if label in desired_labels]\n",
    "print(\"\\nLabels ที่จะเก็บ:\")\n",
    "print(labels_to_keep)"
   ]
  },
  {
   "cell_type": "code",
   "execution_count": 10,
   "metadata": {},
   "outputs": [],
   "source": [
    "unwanted_labels = [\n",
    "    'ใบตองแห้ง\\' ออนไลน์', '10 เมษายน 2553', '112', '14 ตุลาคม 2516', '15 พฤษภาคม 2553',\n",
    "    '19 กันยายน 2549', '19 พฤษภาคม 2553', '1984', '24 มิถุนาประชาธิปไตย',\n",
    "    '24 มิถุนายน 2475', '30 บาทรักษาทุกโรค', '3G', '40 ปี 14 ตุลาคม 2516',\n",
    "    '40 ปี 6 ตุลาคม 2519', '6 ตุลาคม 2519', '6 ศพวัดปทุม', 'AEC', 'ASEAN',\n",
    "    'Arab Spring', 'Facebook', 'ISIS', 'TCIJ', 'TDRI', 'BRN', 'EHIA', 'EIA',\n",
    "    'LGBT', 'NSA'  # เพิ่มป้ายกำกับที่ต้องการลบ\n",
    "]"
   ]
  },
  {
   "cell_type": "code",
   "execution_count": 11,
   "metadata": {},
   "outputs": [
    {
     "name": "stdout",
     "output_type": "stream",
     "text": [
      "\n",
      "Labels ที่จะเก็บหลังจากลบ unwanted_labels:\n",
      "['ข่าว', 'การเมือง', 'สิทธิมนุษยชน', 'คุณภาพชีวิต', 'บทความ', 'สิ่งแวดล้อม']\n"
     ]
    }
   ],
   "source": [
    "# ลบ unwanted_labels ออกจาก labels_to_keep\n",
    "labels_to_keep = [label for label in labels_to_keep if label not in unwanted_labels]\n",
    "print(\"\\nLabels ที่จะเก็บหลังจากลบ unwanted_labels:\")\n",
    "print(labels_to_keep)"
   ]
  },
  {
   "cell_type": "code",
   "execution_count": 12,
   "metadata": {},
   "outputs": [
    {
     "name": "stdout",
     "output_type": "stream",
     "text": [
      "\n",
      "ขนาดของ filtered_data: (67106, 2)\n"
     ]
    }
   ],
   "source": [
    "# กรองข้อมูลเพื่อลบ labels ที่ไม่มีใน labels_to_keep และลบ NaN และ labels ที่เป็น []\n",
    "filtered_data = data_df.copy()  # ใช้ .copy() เพื่อหลีกเลี่ยง SettingWithCopyWarning\n",
    "\n",
    "# ฟังก์ชันสำหรับกรองป้ายกำกับในแต่ละแถว\n",
    "def filter_labels(labels, labels_to_keep):\n",
    "    return [label for label in labels if label in labels_to_keep]\n",
    "\n",
    "filtered_data['labels'] = filtered_data['labels'].apply(lambda x: filter_labels(x, labels_to_keep))\n",
    "\n",
    "# ลบแถวที่ไม่มีป้ายกำกับเหลือ\n",
    "filtered_data = filtered_data[filtered_data['labels'].map(len) > 0]\n",
    "print(f\"\\nขนาดของ filtered_data: {filtered_data.shape}\")\n"
   ]
  },
  {
   "cell_type": "code",
   "execution_count": 13,
   "metadata": {},
   "outputs": [
    {
     "name": "stdout",
     "output_type": "stream",
     "text": [
      "\n",
      "จำนวนแต่ละ label หลังการกรอง:\n",
      "labels\n",
      "ข่าว            53448\n",
      "การเมือง        39124\n",
      "สิทธิมนุษยชน    15067\n",
      "คุณภาพชีวิต     11316\n",
      "บทความ           9571\n",
      "สิ่งแวดล้อม      7703\n",
      "Name: count, dtype: int64\n"
     ]
    }
   ],
   "source": [
    "# ตรวจสอบจำนวนแต่ละ label หลังการกรอง\n",
    "labels_exploded_filtered = filtered_data.explode('labels')\n",
    "filtered_label_counts = labels_exploded_filtered['labels'].value_counts()\n",
    "print(\"\\nจำนวนแต่ละ label หลังการกรอง:\")\n",
    "print(filtered_label_counts)\n"
   ]
  },
  {
   "cell_type": "code",
   "execution_count": 14,
   "metadata": {},
   "outputs": [],
   "source": [
    "# 5. Tokenization\n",
    "filtered_data['tokenized_text'] = filtered_data['combined_text'].apply(lambda x: ' '.join(word_tokenize(x, engine='newmm')))"
   ]
  },
  {
   "cell_type": "code",
   "execution_count": 15,
   "metadata": {},
   "outputs": [],
   "source": [
    "# 6. Cleaning text\n",
    "stopwords = list(thai_stopwords())\n",
    "\n",
    "def clean_text(text):\n",
    "    # ลบสัญลักษณ์พิเศษ, ตัวเลข, และเครื่องหมาย ':' ออกจากข้อความ\n",
    "    text = re.sub(r'[\\\"\\'\\(\\)\\-\\.!/,0-9:]', '', text)\n",
    "    # ลบ stop words\n",
    "    return ' '.join([word for word in text.split() if word not in stopwords])\n",
    "\n",
    "filtered_data['cleaned_text'] = filtered_data['tokenized_text'].apply(clean_text)\n"
   ]
  },
  {
   "cell_type": "code",
   "execution_count": 16,
   "metadata": {},
   "outputs": [
    {
     "data": {
      "text/html": [
       "<div>\n",
       "<style scoped>\n",
       "    .dataframe tbody tr th:only-of-type {\n",
       "        vertical-align: middle;\n",
       "    }\n",
       "\n",
       "    .dataframe tbody tr th {\n",
       "        vertical-align: top;\n",
       "    }\n",
       "\n",
       "    .dataframe thead th {\n",
       "        text-align: right;\n",
       "    }\n",
       "</style>\n",
       "<table border=\"1\" class=\"dataframe\">\n",
       "  <thead>\n",
       "    <tr style=\"text-align: right;\">\n",
       "      <th></th>\n",
       "      <th>labels</th>\n",
       "      <th>cleaned_text</th>\n",
       "    </tr>\n",
       "  </thead>\n",
       "  <tbody>\n",
       "    <tr>\n",
       "      <th>0</th>\n",
       "      <td>[ข่าว, สิ่งแวดล้อม]</td>\n",
       "      <td>นักวิจัย หนุน แม้ว จีเอ็มโอ ประชา ไท สค นักวิจ...</td>\n",
       "    </tr>\n",
       "    <tr>\n",
       "      <th>1</th>\n",
       "      <td>[ข่าว, สิ่งแวดล้อม]</td>\n",
       "      <td>ประชาชน ต้าน เสรี จีเอ็มโอ ประชา ไท สค นักวิชา...</td>\n",
       "    </tr>\n",
       "    <tr>\n",
       "      <th>2</th>\n",
       "      <td>[ข่าว, สิ่งแวดล้อม]</td>\n",
       "      <td>จุฬาฯ ห่วง จีเอ็มโอ ลาม ข้าว ไทย นโยบาย อนุญาต...</td>\n",
       "    </tr>\n",
       "    <tr>\n",
       "      <th>3</th>\n",
       "      <td>[ข่าว, การเมือง]</td>\n",
       "      <td>ฟองสบู่ การเมือง แตก ทักษิณ กึ๋น ชนชั้นกลาง คว...</td>\n",
       "    </tr>\n",
       "    <tr>\n",
       "      <th>4</th>\n",
       "      <td>[ข่าว, สิ่งแวดล้อม]</td>\n",
       "      <td>กอ ต เสนอ เลิก ถนน คลอง ลาน อุ้มผาง ประชา ไท ส...</td>\n",
       "    </tr>\n",
       "  </tbody>\n",
       "</table>\n",
       "</div>"
      ],
      "text/plain": [
       "                labels                                       cleaned_text\n",
       "0  [ข่าว, สิ่งแวดล้อม]  นักวิจัย หนุน แม้ว จีเอ็มโอ ประชา ไท สค นักวิจ...\n",
       "1  [ข่าว, สิ่งแวดล้อม]  ประชาชน ต้าน เสรี จีเอ็มโอ ประชา ไท สค นักวิชา...\n",
       "2  [ข่าว, สิ่งแวดล้อม]  จุฬาฯ ห่วง จีเอ็มโอ ลาม ข้าว ไทย นโยบาย อนุญาต...\n",
       "3     [ข่าว, การเมือง]  ฟองสบู่ การเมือง แตก ทักษิณ กึ๋น ชนชั้นกลาง คว...\n",
       "4  [ข่าว, สิ่งแวดล้อม]  กอ ต เสนอ เลิก ถนน คลอง ลาน อุ้มผาง ประชา ไท ส..."
      ]
     },
     "execution_count": 16,
     "metadata": {},
     "output_type": "execute_result"
    }
   ],
   "source": [
    "# 7. Drop unnecessary columns\n",
    "filtered_data = filtered_data.drop(columns=['combined_text', 'tokenized_text'])\n",
    "filtered_data.head()"
   ]
  },
  {
   "cell_type": "code",
   "execution_count": 17,
   "metadata": {},
   "outputs": [
    {
     "name": "stdout",
     "output_type": "stream",
     "text": [
      "\n",
      "20 คำที่ปรากฏบ่อยที่สุด:\n",
      "'คน': 366335 ครั้ง\n",
      "'ไทย': 291302 ครั้ง\n",
      "'เรื่อง': 223800 ครั้ง\n",
      "'ประชาชน': 217717 ครั้ง\n",
      "'ปี': 215021 ครั้ง\n",
      "'ประเทศ': 194616 ครั้ง\n",
      "'รัฐบาล': 177733 ครั้ง\n",
      "'ทำ': 160155 ครั้ง\n",
      "'”': 151803 ครั้ง\n",
      "'“': 150086 ครั้ง\n",
      "'พื้นที่': 137762 ครั้ง\n",
      "'ที่จะ': 135618 ครั้ง\n",
      "'รัฐ': 131674 ครั้ง\n",
      "'วันที่': 128809 ครั้ง\n",
      "'ผม': 124468 ครั้ง\n",
      "'สังคม': 124310 ครั้ง\n",
      "'สิทธิ': 110628 ครั้ง\n",
      "'สร้าง': 108415 ครั้ง\n",
      "'แรงงาน': 94838 ครั้ง\n",
      "'[]': 93645 ครั้ง\n",
      "\n",
      "คำที่ถูกละเลยบางส่วน:\n",
      "'กรณี': 92212 ครั้ง\n",
      "'จังหวัด': 91910 ครั้ง\n",
      "'กฎหมาย': 91671 ครั้ง\n",
      "'ระบบ': 84480 ครั้ง\n",
      "'ปัญหา': 83906 ครั้ง\n",
      "'ชุมนุม': 81569 ครั้ง\n",
      "'รัฐธรรมนูญ': 78003 ครั้ง\n",
      "'ประชาธิปไตย': 77299 ครั้ง\n",
      "'บาท': 76717 ครั้ง\n",
      "'ทหาร': 75474 ครั้ง\n",
      "'ที่ผ่านมา': 75373 ครั้ง\n",
      "'เกิดขึ้น': 72216 ครั้ง\n",
      "'จำนวน': 71195 ครั้ง\n",
      "'ชาวบ้าน': 70965 ครั้ง\n",
      "'กล่าวว่า': 69898 ครั้ง\n",
      "'ชุมชน': 68605 ครั้ง\n",
      "'ดี': 68490 ครั้ง\n",
      "'ระบุ': 68443 ครั้ง\n",
      "'รายงาน': 68215 ครั้ง\n",
      "'ข้อมูล': 68172 ครั้ง\n"
     ]
    }
   ],
   "source": [
    "# 8. Word frequency analysis\n",
    "all_words = ' '.join(filtered_data['cleaned_text']).split()\n",
    "word_counts = Counter(all_words)\n",
    "sorted_word_counts = word_counts.most_common(40)\n",
    "\n",
    "print(\"\\n20 คำที่ปรากฏบ่อยที่สุด:\")\n",
    "for word, count in sorted_word_counts[:20]:\n",
    "    print(f\"'{word}': {count} ครั้ง\")\n",
    "\n",
    "# แสดงคำที่ถูกละเลยบางส่วน (ถ้ามี)\n",
    "print(\"\\nคำที่ถูกละเลยบางส่วน:\")\n",
    "for word, count in sorted_word_counts[20:]:\n",
    "    print(f\"'{word}': {count} ครั้ง\")"
   ]
  },
  {
   "cell_type": "code",
   "execution_count": 18,
   "metadata": {},
   "outputs": [
    {
     "name": "stdout",
     "output_type": "stream",
     "text": [
      "\n",
      "Labels ที่จะเก็บหลังการกรอง:\n",
      "['ข่าว', 'การเมือง', 'สิทธิมนุษยชน', 'คุณภาพชีวิต', 'บทความ', 'สิ่งแวดล้อม']\n"
     ]
    }
   ],
   "source": [
    "print(\"\\nLabels ที่จะเก็บหลังการกรอง:\")\n",
    "print(labels_to_keep)"
   ]
  },
  {
   "cell_type": "code",
   "execution_count": 19,
   "metadata": {},
   "outputs": [
    {
     "name": "stdout",
     "output_type": "stream",
     "text": [
      "\n",
      "ตัวอย่างข้อมูลในคอลัมน์ 'labels' หลังการแปลงและกรอง:\n",
      "0    [ข่าว, สิ่งแวดล้อม]\n",
      "1    [ข่าว, สิ่งแวดล้อม]\n",
      "2    [ข่าว, สิ่งแวดล้อม]\n",
      "3       [ข่าว, การเมือง]\n",
      "4    [ข่าว, สิ่งแวดล้อม]\n",
      "Name: labels, dtype: object\n"
     ]
    }
   ],
   "source": [
    "print(\"\\nตัวอย่างข้อมูลในคอลัมน์ 'labels' หลังการแปลงและกรอง:\")\n",
    "print(filtered_data['labels'].iloc[:5])"
   ]
  },
  {
   "cell_type": "code",
   "execution_count": 20,
   "metadata": {},
   "outputs": [
    {
     "name": "stdout",
     "output_type": "stream",
     "text": [
      "\n",
      "จำนวนแต่ละ label หลังการกรอง:\n",
      "labels\n",
      "ข่าว            53448\n",
      "การเมือง        39124\n",
      "สิทธิมนุษยชน    15067\n",
      "คุณภาพชีวิต     11316\n",
      "บทความ           9571\n",
      "สิ่งแวดล้อม      7703\n",
      "Name: count, dtype: int64\n"
     ]
    }
   ],
   "source": [
    "print(\"\\nจำนวนแต่ละ label หลังการกรอง:\")\n",
    "print(filtered_label_counts)"
   ]
  },
  {
   "cell_type": "code",
   "execution_count": 21,
   "metadata": {},
   "outputs": [
    {
     "data": {
      "text/html": [
       "<div>\n",
       "<style scoped>\n",
       "    .dataframe tbody tr th:only-of-type {\n",
       "        vertical-align: middle;\n",
       "    }\n",
       "\n",
       "    .dataframe tbody tr th {\n",
       "        vertical-align: top;\n",
       "    }\n",
       "\n",
       "    .dataframe thead th {\n",
       "        text-align: right;\n",
       "    }\n",
       "</style>\n",
       "<table border=\"1\" class=\"dataframe\">\n",
       "  <thead>\n",
       "    <tr style=\"text-align: right;\">\n",
       "      <th></th>\n",
       "      <th>labels</th>\n",
       "      <th>cleaned_text</th>\n",
       "    </tr>\n",
       "  </thead>\n",
       "  <tbody>\n",
       "    <tr>\n",
       "      <th>0</th>\n",
       "      <td>[ข่าว, สิ่งแวดล้อม]</td>\n",
       "      <td>นักวิจัย หนุน แม้ว จีเอ็มโอ ประชา ไท สค นักวิจ...</td>\n",
       "    </tr>\n",
       "    <tr>\n",
       "      <th>1</th>\n",
       "      <td>[ข่าว, สิ่งแวดล้อม]</td>\n",
       "      <td>ประชาชน ต้าน เสรี จีเอ็มโอ ประชา ไท สค นักวิชา...</td>\n",
       "    </tr>\n",
       "    <tr>\n",
       "      <th>2</th>\n",
       "      <td>[ข่าว, สิ่งแวดล้อม]</td>\n",
       "      <td>จุฬาฯ ห่วง จีเอ็มโอ ลาม ข้าว ไทย นโยบาย อนุญาต...</td>\n",
       "    </tr>\n",
       "    <tr>\n",
       "      <th>3</th>\n",
       "      <td>[ข่าว, การเมือง]</td>\n",
       "      <td>ฟองสบู่ การเมือง แตก ทักษิณ กึ๋น ชนชั้นกลาง คว...</td>\n",
       "    </tr>\n",
       "    <tr>\n",
       "      <th>4</th>\n",
       "      <td>[ข่าว, สิ่งแวดล้อม]</td>\n",
       "      <td>กอ ต เสนอ เลิก ถนน คลอง ลาน อุ้มผาง ประชา ไท ส...</td>\n",
       "    </tr>\n",
       "    <tr>\n",
       "      <th>5</th>\n",
       "      <td>[ข่าว, สิ่งแวดล้อม]</td>\n",
       "      <td>สำรวจ เส้นทาง ถนน สาย มั่ง คลอง ลาน อุ้มผาง ภา...</td>\n",
       "    </tr>\n",
       "    <tr>\n",
       "      <th>6</th>\n",
       "      <td>[ข่าว, การเมือง]</td>\n",
       "      <td>ชนชั้นกลาง ความหมาย เกษียร เต ชะ พี ระ รศ เกษี...</td>\n",
       "    </tr>\n",
       "    <tr>\n",
       "      <th>7</th>\n",
       "      <td>[ข่าว, สิ่งแวดล้อม]</td>\n",
       "      <td>ปี เส้นทาง สาย โครงการ ถนน สาย คลอง ลาน อุ้มผา...</td>\n",
       "    </tr>\n",
       "    <tr>\n",
       "      <th>8</th>\n",
       "      <td>[ข่าว, สิ่งแวดล้อม]</td>\n",
       "      <td>เบนซิน ขยับ บาท ลิตร กรุงเทพฯ สค กระทรวง พลังง...</td>\n",
       "    </tr>\n",
       "    <tr>\n",
       "      <th>9</th>\n",
       "      <td>[บทความ]</td>\n",
       "      <td>บทวิเคราะห์ ความสัมพันธ์ บรรษัทข้ามชาติ สื่อ ร...</td>\n",
       "    </tr>\n",
       "    <tr>\n",
       "      <th>10</th>\n",
       "      <td>[ข่าว, สิ่งแวดล้อม]</td>\n",
       "      <td>จับตา วุฒิ สรรหา กทช กรุงเทพฯ สค ประธาน วุฒิสภ...</td>\n",
       "    </tr>\n",
       "  </tbody>\n",
       "</table>\n",
       "</div>"
      ],
      "text/plain": [
       "                 labels                                       cleaned_text\n",
       "0   [ข่าว, สิ่งแวดล้อม]  นักวิจัย หนุน แม้ว จีเอ็มโอ ประชา ไท สค นักวิจ...\n",
       "1   [ข่าว, สิ่งแวดล้อม]  ประชาชน ต้าน เสรี จีเอ็มโอ ประชา ไท สค นักวิชา...\n",
       "2   [ข่าว, สิ่งแวดล้อม]  จุฬาฯ ห่วง จีเอ็มโอ ลาม ข้าว ไทย นโยบาย อนุญาต...\n",
       "3      [ข่าว, การเมือง]  ฟองสบู่ การเมือง แตก ทักษิณ กึ๋น ชนชั้นกลาง คว...\n",
       "4   [ข่าว, สิ่งแวดล้อม]  กอ ต เสนอ เลิก ถนน คลอง ลาน อุ้มผาง ประชา ไท ส...\n",
       "5   [ข่าว, สิ่งแวดล้อม]  สำรวจ เส้นทาง ถนน สาย มั่ง คลอง ลาน อุ้มผาง ภา...\n",
       "6      [ข่าว, การเมือง]  ชนชั้นกลาง ความหมาย เกษียร เต ชะ พี ระ รศ เกษี...\n",
       "7   [ข่าว, สิ่งแวดล้อม]  ปี เส้นทาง สาย โครงการ ถนน สาย คลอง ลาน อุ้มผา...\n",
       "8   [ข่าว, สิ่งแวดล้อม]  เบนซิน ขยับ บาท ลิตร กรุงเทพฯ สค กระทรวง พลังง...\n",
       "9              [บทความ]  บทวิเคราะห์ ความสัมพันธ์ บรรษัทข้ามชาติ สื่อ ร...\n",
       "10  [ข่าว, สิ่งแวดล้อม]  จับตา วุฒิ สรรหา กทช กรุงเทพฯ สค ประธาน วุฒิสภ..."
      ]
     },
     "execution_count": 21,
     "metadata": {},
     "output_type": "execute_result"
    }
   ],
   "source": [
    "filtered_data.head(11)"
   ]
  },
  {
   "cell_type": "code",
   "execution_count": 22,
   "metadata": {},
   "outputs": [
    {
     "name": "stdout",
     "output_type": "stream",
     "text": [
      "\n",
      "จำนวนแต่ละ label หลังการกรอง:\n",
      "labels\n",
      "ข่าว            53448\n",
      "การเมือง        39124\n",
      "สิทธิมนุษยชน    15067\n",
      "คุณภาพชีวิต     11316\n",
      "บทความ           9571\n",
      "สิ่งแวดล้อม      7703\n",
      "Name: count, dtype: int64\n"
     ]
    }
   ],
   "source": [
    "# ตรวจสอบจำนวนแต่ละ label หลังการกรอง\n",
    "labels_exploded_filtered = filtered_data.explode('labels')\n",
    "filtered_label_counts = labels_exploded_filtered['labels'].value_counts()\n",
    "print(\"\\nจำนวนแต่ละ label หลังการกรอง:\")\n",
    "print(filtered_label_counts)\n"
   ]
  },
  {
   "cell_type": "code",
   "execution_count": 23,
   "metadata": {},
   "outputs": [
    {
     "ename": "AttributeError",
     "evalue": "'function' object has no attribute 'head'",
     "output_type": "error",
     "traceback": [
      "\u001b[0;31m---------------------------------------------------------------------------\u001b[0m",
      "\u001b[0;31mAttributeError\u001b[0m                            Traceback (most recent call last)",
      "Cell \u001b[0;32mIn[23], line 2\u001b[0m\n\u001b[1;32m      1\u001b[0m \u001b[38;5;28;01mimport\u001b[39;00m \u001b[38;5;21;01mpandas\u001b[39;00m \u001b[38;5;28;01mas\u001b[39;00m \u001b[38;5;21;01mpd\u001b[39;00m\n\u001b[0;32m----> 2\u001b[0m \u001b[43mfilter_labels\u001b[49m\u001b[38;5;241;43m.\u001b[39;49m\u001b[43mhead\u001b[49m()\n",
      "\u001b[0;31mAttributeError\u001b[0m: 'function' object has no attribute 'head'"
     ]
    }
   ],
   "source": [
    "import pandas as pd\n",
    "filter_labels.head()"
   ]
  },
  {
   "cell_type": "code",
   "execution_count": 24,
   "metadata": {},
   "outputs": [
    {
     "name": "stdout",
     "output_type": "stream",
     "text": [
      "ป้ายกำกับที่แปลงเป็น One-Hot Encoding:\n",
      "['การเมือง' 'ข่าว' 'คุณภาพชีวิต' 'บทความ' 'สิทธิมนุษยชน' 'สิ่งแวดล้อม']\n"
     ]
    }
   ],
   "source": [
    "# 9. One-Hot Encoding ของป้ายกำกับ\n",
    "from sklearn.preprocessing import MultiLabelBinarizer\n",
    "\n",
    "mlb = MultiLabelBinarizer()\n",
    "encoded_labels = mlb.fit_transform(filtered_data['labels'])\n",
    "print(\"ป้ายกำกับที่แปลงเป็น One-Hot Encoding:\")\n",
    "print(mlb.classes_)\n"
   ]
  },
  {
   "cell_type": "code",
   "execution_count": 25,
   "metadata": {},
   "outputs": [
    {
     "name": "stdout",
     "output_type": "stream",
     "text": [
      "\n",
      "ตัวอย่างการแปลงเป็น sequences:\n",
      "[[   0    0    0 ... 2167  133  288]\n",
      " [   0    0    0 ... 2167  133  288]\n",
      " [   0    0    0 ... 2167  133  288]\n",
      " [   0    0    0 ... 2167  133  288]\n",
      " [   0    0    0 ... 2167  133  288]]\n"
     ]
    }
   ],
   "source": [
    "# 10. เตรียมข้อมูลสำหรับการฝึกโมเดล\n",
    "max_words = 20000  # เลือก 20,000 คำ\n",
    "tokenizer = Tokenizer(num_words=max_words, oov_token=\"<OOV>\")\n",
    "tokenizer.fit_on_texts(filtered_data['cleaned_text'])\n",
    "sequences = tokenizer.texts_to_sequences(filtered_data['cleaned_text'])\n",
    "\n",
    "max_len = 500  # ความยาวสูงสุดของข้อความ\n",
    "data = pad_sequences(sequences, maxlen=max_len)\n",
    "print(\"\\nตัวอย่างการแปลงเป็น sequences:\")\n",
    "print(data[:5])"
   ]
  },
  {
   "cell_type": "code",
   "execution_count": 26,
   "metadata": {},
   "outputs": [
    {
     "name": "stdout",
     "output_type": "stream",
     "text": [
      "\n",
      "ขนาดของชุดฝึก: (53684, 500), ขนาดของชุดทดสอบ: (13422, 500)\n"
     ]
    }
   ],
   "source": [
    "# 11. แบ่งข้อมูลเป็นชุดฝึกและทดสอบ\n",
    "X_train, X_test, y_train, y_test = train_test_split(data, encoded_labels, test_size=0.2, random_state=42)\n",
    "print(f\"\\nขนาดของชุดฝึก: {X_train.shape}, ขนาดของชุดทดสอบ: {X_test.shape}\")\n"
   ]
  },
  {
   "cell_type": "code",
   "execution_count": 27,
   "metadata": {},
   "outputs": [
    {
     "name": "stdout",
     "output_type": "stream",
     "text": [
      "Model: \"sequential\"\n",
      "_________________________________________________________________\n",
      " Layer (type)                Output Shape              Param #   \n",
      "=================================================================\n",
      " embedding (Embedding)       (None, 500, 128)          2560128   \n",
      "                                                                 \n",
      " conv1d (Conv1D)             (None, 498, 32)           12320     \n",
      "                                                                 \n",
      " max_pooling1d (MaxPooling1D  (None, 249, 32)          0         \n",
      " )                                                               \n",
      "                                                                 \n",
      " flatten (Flatten)           (None, 7968)              0         \n",
      "                                                                 \n",
      " dense (Dense)               (None, 64)                510016    \n",
      "                                                                 \n",
      " dropout (Dropout)           (None, 64)                0         \n",
      "                                                                 \n",
      " dense_1 (Dense)             (None, 6)                 390       \n",
      "                                                                 \n",
      "=================================================================\n",
      "Total params: 3,082,854\n",
      "Trainable params: 3,082,854\n",
      "Non-trainable params: 0\n",
      "_________________________________________________________________\n"
     ]
    }
   ],
   "source": [
    "# 12. สร้างโมเดล CNN สำหรับ Multi-label Classification\n",
    "from tensorflow.keras.models import Sequential\n",
    "from tensorflow.keras.layers import Embedding, Conv1D, MaxPooling1D, Flatten, Dense, Dropout\n",
    "\n",
    "model = Sequential()\n",
    "model.add(Embedding(input_dim=max_words + 1, output_dim=128, input_length=max_len))\n",
    "model.add(Conv1D(filters=32, kernel_size=3, activation='relu'))\n",
    "model.add(MaxPooling1D(pool_size=2))\n",
    "model.add(Flatten())\n",
    "model.add(Dense(64, activation='relu'))\n",
    "model.add(Dropout(0.5))\n",
    "model.add(Dense(len(mlb.classes_), activation='sigmoid'))  # ใช้ sigmoid สำหรับ multi-label\n",
    "\n",
    "# แสดงโครงสร้างโมเดล\n",
    "model.summary()\n"
   ]
  },
  {
   "cell_type": "code",
   "execution_count": 28,
   "metadata": {},
   "outputs": [],
   "source": [
    "# 13. คอมไพล์โมเดล\n",
    "model.compile(loss='binary_crossentropy', optimizer='adam', metrics=['accuracy'])\n"
   ]
  },
  {
   "cell_type": "code",
   "execution_count": 29,
   "metadata": {},
   "outputs": [
    {
     "name": "stdout",
     "output_type": "stream",
     "text": [
      "Epoch 1/10\n"
     ]
    },
    {
     "name": "stderr",
     "output_type": "stream",
     "text": [
      "2024-10-09 08:10:33.603927: W tensorflow/tsl/platform/profile_utils/cpu_utils.cc:128] Failed to get CPU frequency: 0 Hz\n"
     ]
    },
    {
     "name": "stdout",
     "output_type": "stream",
     "text": [
      "1343/1343 [==============================] - 21s 16ms/step - loss: 0.3928 - accuracy: 0.4486 - val_loss: 0.3178 - val_accuracy: 0.4381\n",
      "Epoch 2/10\n",
      "1343/1343 [==============================] - 22s 16ms/step - loss: 0.3106 - accuracy: 0.4598 - val_loss: 0.3095 - val_accuracy: 0.4472\n",
      "Epoch 3/10\n",
      "1343/1343 [==============================] - 21s 15ms/step - loss: 0.2636 - accuracy: 0.4666 - val_loss: 0.3176 - val_accuracy: 0.4567\n",
      "Epoch 4/10\n",
      "1343/1343 [==============================] - 20s 15ms/step - loss: 0.2238 - accuracy: 0.4741 - val_loss: 0.3651 - val_accuracy: 0.4131\n",
      "Epoch 5/10\n",
      "1343/1343 [==============================] - 19s 14ms/step - loss: 0.1910 - accuracy: 0.4853 - val_loss: 0.3985 - val_accuracy: 0.4098\n"
     ]
    }
   ],
   "source": [
    "# 14. ฝึกโมเดล\n",
    "from tensorflow.keras.callbacks import EarlyStopping, ModelCheckpoint\n",
    "\n",
    "early_stopping = EarlyStopping(monitor='val_loss', patience=3, restore_best_weights=True)\n",
    "model_checkpoint = ModelCheckpoint('best_model.h5', save_best_only=True, monitor='val_loss')\n",
    "\n",
    "history = model.fit(X_train, y_train, epochs=10, batch_size=32, validation_split=0.2, callbacks=[early_stopping, model_checkpoint])\n"
   ]
  },
  {
   "cell_type": "code",
   "execution_count": 30,
   "metadata": {},
   "outputs": [
    {
     "name": "stdout",
     "output_type": "stream",
     "text": [
      "420/420 [==============================] - 1s 3ms/step\n"
     ]
    }
   ],
   "source": [
    "# 15. ทำนายผล\n",
    "y_pred = model.predict(X_test)\n",
    "y_pred_classes = (y_pred > 0.5).astype(int)  # แปลงค่าความน่าจะเป็นเป็น 0 หรือ 1\n"
   ]
  },
  {
   "cell_type": "code",
   "execution_count": 31,
   "metadata": {},
   "outputs": [
    {
     "name": "stdout",
     "output_type": "stream",
     "text": [
      "\n",
      "Macro Accuracy: 0.5146028907763374\n",
      "\n",
      "Classification Report:\n",
      "              precision    recall  f1-score   support\n",
      "\n",
      "    การเมือง       0.82      0.82      0.82      7776\n",
      "        ข่าว       0.89      0.96      0.92     10669\n",
      " คุณภาพชีวิต       0.78      0.37      0.50      2256\n",
      "      บทความ       0.76      0.48      0.59      1921\n",
      "สิทธิมนุษยชน       0.79      0.39      0.52      2980\n",
      " สิ่งแวดล้อม       0.79      0.55      0.65      1578\n",
      "\n",
      "   micro avg       0.84      0.75      0.80     27180\n",
      "   macro avg       0.80      0.60      0.67     27180\n",
      "weighted avg       0.83      0.75      0.78     27180\n",
      " samples avg       0.84      0.77      0.78     27180\n",
      "\n"
     ]
    }
   ],
   "source": [
    "# 16. ประเมินผลโมเดล\n",
    "from sklearn.metrics import classification_report, accuracy_score\n",
    "\n",
    "# คำนวณ Macro Accuracy\n",
    "macro_accuracy = accuracy_score(y_test, y_pred_classes)\n",
    "print(f'\\nMacro Accuracy: {macro_accuracy}')\n",
    "\n",
    "# สร้าง Classification Report\n",
    "print(\"\\nClassification Report:\")\n",
    "print(classification_report(y_test, y_pred_classes, target_names=mlb.classes_, zero_division=0))\n"
   ]
  },
  {
   "cell_type": "code",
   "execution_count": null,
   "metadata": {},
   "outputs": [
    {
     "name": "stdout",
     "output_type": "stream",
     "text": [
      "1/1 [==============================] - 0s 15ms/step\n",
      "[('ข่าว',)]\n"
     ]
    }
   ],
   "source": [
    "def predict_new_text(new_text):\n",
    "    tokenized_text = ' '.join(word_tokenize(new_text, engine='newmm'))\n",
    "    cleaned_text = clean_text(tokenized_text)  # ใช้ฟังก์ชันทำความสะอาด\n",
    "    sequence = tokenizer.texts_to_sequences([cleaned_text])  # แปลงเป็นลำดับตัวเลข\n",
    "    padded_sequence = pad_sequences(sequence, maxlen=max_len)  # ทำ padding\n",
    "    prediction = model.predict(padded_sequence)  # ทำนาย\n",
    "    predicted_classes = (prediction > 0.5).astype(int)  # เปลี่ยนค่าความน่าจะเป็นเป็น 0 หรือ 1\n",
    "    return mlb.inverse_transform(predicted_classes)  # คืนค่าชื่อ label\n",
    "\n",
    "# ตัวอย่างการใช้งาน\n",
    "new_text = \"\"\n",
    "print(predict_new_text(new_text))"
   ]
  }
 ],
 "metadata": {
  "kernelspec": {
   "display_name": "nlp",
   "language": "python",
   "name": "python3"
  },
  "language_info": {
   "codemirror_mode": {
    "name": "ipython",
    "version": 3
   },
   "file_extension": ".py",
   "mimetype": "text/x-python",
   "name": "python",
   "nbconvert_exporter": "python",
   "pygments_lexer": "ipython3",
   "version": "3.10.13"
  }
 },
 "nbformat": 4,
 "nbformat_minor": 2
}
