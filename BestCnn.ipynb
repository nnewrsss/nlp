{
 "cells": [
  {
   "cell_type": "code",
   "execution_count": 1,
   "metadata": {},
   "outputs": [],
   "source": [
    "import pandas as pd\n",
    "from sklearn.model_selection import train_test_split\n",
    "from sklearn.preprocessing import LabelEncoder\n",
    "from pythainlp.tokenize import word_tokenize\n",
    "from pythainlp.corpus import thai_stopwords\n",
    "from tensorflow.keras.preprocessing.text import Tokenizer\n",
    "from tensorflow.keras.preprocessing.sequence import pad_sequences\n",
    "from tensorflow.keras.models import Sequential\n",
    "from tensorflow.keras.layers import Embedding, LSTM, Dense\n",
    "from sklearn.metrics import classification_report\n",
    "import re\n",
    "from collections import Counter"
   ]
  },
  {
   "cell_type": "code",
   "execution_count": 2,
   "metadata": {},
   "outputs": [
    {
     "data": {
      "text/html": [
       "<div>\n",
       "<style scoped>\n",
       "    .dataframe tbody tr th:only-of-type {\n",
       "        vertical-align: middle;\n",
       "    }\n",
       "\n",
       "    .dataframe tbody tr th {\n",
       "        vertical-align: top;\n",
       "    }\n",
       "\n",
       "    .dataframe thead th {\n",
       "        text-align: right;\n",
       "    }\n",
       "</style>\n",
       "<table border=\"1\" class=\"dataframe\">\n",
       "  <thead>\n",
       "    <tr style=\"text-align: right;\">\n",
       "      <th></th>\n",
       "      <th>url</th>\n",
       "      <th>date</th>\n",
       "      <th>title</th>\n",
       "      <th>body_text</th>\n",
       "      <th>labels</th>\n",
       "    </tr>\n",
       "  </thead>\n",
       "  <tbody>\n",
       "    <tr>\n",
       "      <th>0</th>\n",
       "      <td>https://prachatai.com/print/42</td>\n",
       "      <td>2004-08-24 14:31</td>\n",
       "      <td>นักวิจัยหนุน  \"แม้ว\"  เปิด  \"จีเอ็มโอ\"</td>\n",
       "      <td>ประชาไท --- 23 ส.ค.2547  นักวิจัยฯ ชี้นโยบายจี...</td>\n",
       "      <td>['ข่าว', 'สิ่งแวดล้อม']</td>\n",
       "    </tr>\n",
       "    <tr>\n",
       "      <th>1</th>\n",
       "      <td>https://prachatai.com/print/41</td>\n",
       "      <td>2004-08-24 14:22</td>\n",
       "      <td>ภาคประชาชนต้านเปิดเสรีจีเอ็มโอ</td>\n",
       "      <td>ประชาไท- 23 ส.ค.2547   นักวิชาการ ภาคประชาชน จ...</td>\n",
       "      <td>['ข่าว', 'สิ่งแวดล้อม']</td>\n",
       "    </tr>\n",
       "    <tr>\n",
       "      <th>2</th>\n",
       "      <td>https://prachatai.com/print/43</td>\n",
       "      <td>2004-08-24 15:17</td>\n",
       "      <td>จุฬาฯ ห่วงจีเอ็มโอลามข้าวไทย</td>\n",
       "      <td>นโยบายที่อนุญาตให้ปลูกร่วมกับพืชอื่นได้นั้นถื...</td>\n",
       "      <td>['ข่าว', 'สิ่งแวดล้อม']</td>\n",
       "    </tr>\n",
       "    <tr>\n",
       "      <th>3</th>\n",
       "      <td>https://prachatai.com/print/45</td>\n",
       "      <td>2004-08-24 15:58</td>\n",
       "      <td>ฟองสบู่การเมืองแตก ทักษิณหมดกึ๋น ชนชั้นกลางหมด...</td>\n",
       "      <td>ประชาไท -- 23 ส.ค. 47  ขาประจำทักษิณ ฟันธง ฟอง...</td>\n",
       "      <td>['ข่าว', 'การเมือง', 'คณะเศรษฐศาสตร์ มหาวิทยาล...</td>\n",
       "    </tr>\n",
       "    <tr>\n",
       "      <th>4</th>\n",
       "      <td>https://prachatai.com/print/47</td>\n",
       "      <td>2004-08-24 16:10</td>\n",
       "      <td>กอต.เสนอเลิกถนนคลองลาน-อุ้มผาง</td>\n",
       "      <td>ประชาไท-23 ส.ค.47  คณะกรรมการอนุรักษ์ ผืนป่าตะ...</td>\n",
       "      <td>['ข่าว', 'สิ่งแวดล้อม']</td>\n",
       "    </tr>\n",
       "  </tbody>\n",
       "</table>\n",
       "</div>"
      ],
      "text/plain": [
       "                              url              date  \\\n",
       "0  https://prachatai.com/print/42  2004-08-24 14:31   \n",
       "1  https://prachatai.com/print/41  2004-08-24 14:22   \n",
       "2  https://prachatai.com/print/43  2004-08-24 15:17   \n",
       "3  https://prachatai.com/print/45  2004-08-24 15:58   \n",
       "4  https://prachatai.com/print/47  2004-08-24 16:10   \n",
       "\n",
       "                                               title  \\\n",
       "0             นักวิจัยหนุน  \"แม้ว\"  เปิด  \"จีเอ็มโอ\"   \n",
       "1                     ภาคประชาชนต้านเปิดเสรีจีเอ็มโอ   \n",
       "2                       จุฬาฯ ห่วงจีเอ็มโอลามข้าวไทย   \n",
       "3  ฟองสบู่การเมืองแตก ทักษิณหมดกึ๋น ชนชั้นกลางหมด...   \n",
       "4                     กอต.เสนอเลิกถนนคลองลาน-อุ้มผาง   \n",
       "\n",
       "                                           body_text  \\\n",
       "0  ประชาไท --- 23 ส.ค.2547  นักวิจัยฯ ชี้นโยบายจี...   \n",
       "1  ประชาไท- 23 ส.ค.2547   นักวิชาการ ภาคประชาชน จ...   \n",
       "2   นโยบายที่อนุญาตให้ปลูกร่วมกับพืชอื่นได้นั้นถื...   \n",
       "3  ประชาไท -- 23 ส.ค. 47  ขาประจำทักษิณ ฟันธง ฟอง...   \n",
       "4  ประชาไท-23 ส.ค.47  คณะกรรมการอนุรักษ์ ผืนป่าตะ...   \n",
       "\n",
       "                                              labels  \n",
       "0                            ['ข่าว', 'สิ่งแวดล้อม']  \n",
       "1                            ['ข่าว', 'สิ่งแวดล้อม']  \n",
       "2                            ['ข่าว', 'สิ่งแวดล้อม']  \n",
       "3  ['ข่าว', 'การเมือง', 'คณะเศรษฐศาสตร์ มหาวิทยาล...  \n",
       "4                            ['ข่าว', 'สิ่งแวดล้อม']  "
      ]
     },
     "execution_count": 2,
     "metadata": {},
     "output_type": "execute_result"
    }
   ],
   "source": [
    "data_df = pd.read_csv('data.csv')\n",
    "data_df.head()"
   ]
  },
  {
   "cell_type": "code",
   "execution_count": 3,
   "metadata": {},
   "outputs": [
    {
     "data": {
      "text/html": [
       "<div>\n",
       "<style scoped>\n",
       "    .dataframe tbody tr th:only-of-type {\n",
       "        vertical-align: middle;\n",
       "    }\n",
       "\n",
       "    .dataframe tbody tr th {\n",
       "        vertical-align: top;\n",
       "    }\n",
       "\n",
       "    .dataframe thead th {\n",
       "        text-align: right;\n",
       "    }\n",
       "</style>\n",
       "<table border=\"1\" class=\"dataframe\">\n",
       "  <thead>\n",
       "    <tr style=\"text-align: right;\">\n",
       "      <th></th>\n",
       "      <th>labels</th>\n",
       "      <th>combined_text</th>\n",
       "    </tr>\n",
       "  </thead>\n",
       "  <tbody>\n",
       "    <tr>\n",
       "      <th>0</th>\n",
       "      <td>['ข่าว', 'สิ่งแวดล้อม']</td>\n",
       "      <td>นักวิจัยหนุน  \"แม้ว\"  เปิด  \"จีเอ็มโอ\" ประชาไท...</td>\n",
       "    </tr>\n",
       "    <tr>\n",
       "      <th>1</th>\n",
       "      <td>['ข่าว', 'สิ่งแวดล้อม']</td>\n",
       "      <td>ภาคประชาชนต้านเปิดเสรีจีเอ็มโอ ประชาไท- 23 ส.ค...</td>\n",
       "    </tr>\n",
       "    <tr>\n",
       "      <th>2</th>\n",
       "      <td>['ข่าว', 'สิ่งแวดล้อม']</td>\n",
       "      <td>จุฬาฯ ห่วงจีเอ็มโอลามข้าวไทย  นโยบายที่อนุญาตใ...</td>\n",
       "    </tr>\n",
       "    <tr>\n",
       "      <th>3</th>\n",
       "      <td>['ข่าว', 'การเมือง', 'คณะเศรษฐศาสตร์ มหาวิทยาล...</td>\n",
       "      <td>ฟองสบู่การเมืองแตก ทักษิณหมดกึ๋น ชนชั้นกลางหมด...</td>\n",
       "    </tr>\n",
       "    <tr>\n",
       "      <th>4</th>\n",
       "      <td>['ข่าว', 'สิ่งแวดล้อม']</td>\n",
       "      <td>กอต.เสนอเลิกถนนคลองลาน-อุ้มผาง ประชาไท-23 ส.ค....</td>\n",
       "    </tr>\n",
       "  </tbody>\n",
       "</table>\n",
       "</div>"
      ],
      "text/plain": [
       "                                              labels  \\\n",
       "0                            ['ข่าว', 'สิ่งแวดล้อม']   \n",
       "1                            ['ข่าว', 'สิ่งแวดล้อม']   \n",
       "2                            ['ข่าว', 'สิ่งแวดล้อม']   \n",
       "3  ['ข่าว', 'การเมือง', 'คณะเศรษฐศาสตร์ มหาวิทยาล...   \n",
       "4                            ['ข่าว', 'สิ่งแวดล้อม']   \n",
       "\n",
       "                                       combined_text  \n",
       "0  นักวิจัยหนุน  \"แม้ว\"  เปิด  \"จีเอ็มโอ\" ประชาไท...  \n",
       "1  ภาคประชาชนต้านเปิดเสรีจีเอ็มโอ ประชาไท- 23 ส.ค...  \n",
       "2  จุฬาฯ ห่วงจีเอ็มโอลามข้าวไทย  นโยบายที่อนุญาตใ...  \n",
       "3  ฟองสบู่การเมืองแตก ทักษิณหมดกึ๋น ชนชั้นกลางหมด...  \n",
       "4  กอต.เสนอเลิกถนนคลองลาน-อุ้มผาง ประชาไท-23 ส.ค....  "
      ]
     },
     "execution_count": 3,
     "metadata": {},
     "output_type": "execute_result"
    }
   ],
   "source": [
    "data_df['combined_text'] = data_df['title'] + ' ' + data_df['body_text']\n",
    "data_df = data_df.drop(columns=['url', 'date', 'title', 'body_text'])\n",
    "data_df.head()"
   ]
  },
  {
   "cell_type": "code",
   "execution_count": 4,
   "metadata": {},
   "outputs": [
    {
     "data": {
      "text/plain": [
       "(67889, 2)"
      ]
     },
     "execution_count": 4,
     "metadata": {},
     "output_type": "execute_result"
    }
   ],
   "source": [
    "data_df.shape"
   ]
  },
  {
   "cell_type": "code",
   "execution_count": 5,
   "metadata": {},
   "outputs": [
    {
     "name": "stdout",
     "output_type": "stream",
     "text": [
      "จำนวนแต่ละ label ก่อนการกรอง:\n",
      "labels\n",
      "['ข่าว', 'การเมือง']                                                                                                                                                                                                                                        14110\n",
      "['ข่าว', 'สิ่งแวดล้อม']                                                                                                                                                                                                                                      4180\n",
      "['บทความ']                                                                                                                                                                                                                                                   1494\n",
      "['ข่าว', 'ขีดเส้นใต้']                                                                                                                                                                                                                                        619\n",
      "['ข่าว']                                                                                                                                                                                                                                                      554\n",
      "                                                                                                                                                                                                                                                            ...  \n",
      "['สัมภาษณ์', 'การเมือง', 'สิทธิมนุษยชน', 'ทนาย', 'ธิติพงษ์ ศรีแสน', 'พ.ร.บ.ว่าด้วยการกระทำความผิดเกี่ยวกับคอมพิวเตอร์ พ.ศ.2550', 'มาตรา 112', 'สุรภักดิ์']                                                                                                      1\n",
      "['ข่าว', 'คุณภาพชีวิต', 'คาเฟอีน', 'ฉลาดซื้อ', 'ชาพร้อมดื่ม']                                                                                                                                                                                                   1\n",
      "['ข่าว', 'การเมือง', 'การเข้าชื่อเสนอกฎหมาย', 'ร่างพระราชบัญญัติการจัดทำหนังสือสัญญาระหว่างประเทศ', 'ศาลปกครอง', 'เอฟทีเอ วอทช์']                                                                                                                               1\n",
      "['นักข่าวพลเมือง', 'คุณภาพชีวิต', 'สิทธิมนุษยชน', 'สังคม', 'กฏหมายความเสมอภาคระหว่างเพศ', 'กองทุนส่งเสริมโอกาสและความเสมอภาคระหว่างเพศ', 'การเข้าชื่อเสนอกฎหมาย', 'ภาคประชาชน', 'ร่าง พ.ร.บ.ส่งเสริมโอกาสและความเสมอภาคระหว่างเพศ (ฉบับประชาชน) พ.ศ...']        1\n",
      "['ข่าว', 'สิทธิมนุษยชน', 'ต่างประเทศ', 'อูยกูร์', 'เตอร์กิสถานตะวันออก', 'สภาอุยกูร์โลก', 'ค่ายกักกัน', 'วันประกาศเอกราช', 'จีน', 'ศาสนา', 'อิสลาม', 'ค่ายกักกันปลูกฝังความเชื่อใหม่']                                                                          1\n",
      "Name: count, Length: 44365, dtype: int64\n",
      "Labels ที่จะเก็บ:\n",
      "[\"['ข่าว', 'การเมือง']\", \"['ข่าว', 'สิ่งแวดล้อม']\", \"['บทความ']\", \"['ข่าว', 'ขีดเส้นใต้']\", \"['ข่าว']\", '[]', \"['ข่าว', 'คุณภาพชีวิต', 'แรงงาน', 'เศรษฐกิจ', 'สังคม', 'สถานการณ์แรงงานประจำสัปดาห์']\", \"['บทความ', 'ต่างประเทศ']\", \"['ข่าว', 'คุณภาพชีวิต', 'แรงงาน', 'สังคม', 'สถานการณ์แรงงานประจำสัปดาห์']\", \"['ข่าว', 'ต่างประเทศ']\", \"['รายงานพิเศษ', 'ต่างประเทศ', 'แรงงาน', 'รอบโลกแรงงาน']\", \"['บทความ', 'การเมือง']\", \"['รายงานพิเศษ', 'คุณภาพชีวิต', 'แรงงาน', 'เศรษฐกิจ', 'สังคม', 'สถานการณ์แรงงานประจำสัปดาห์']\", \"['ข่าว', 'การเมือง', 'การชุมนุมเดือนมีนาคม - พฤษภาคม 2553']\", \"['ข่าว', 'คุณภาพชีวิต', 'สังคม', 'สปสช.', 'สุขภาพ']\", \"['ข่าว', 'การเมือง', 'ต่างประเทศ']\", \"['ข่าว', 'การเมือง', 'ประยุทธ์ จันทร์โอชา', 'รายการคืนความสุขให้คนในชาติ']\", \"['ข่าว', 'คุณภาพชีวิต', 'แรงงาน', 'เศรษฐกิจ', 'สถานการณ์แรงงานประจำสัปดาห์']\", \"['บทความ', 'การเมือง', 'นักปรัชญาชายขอบ']\", \"['ข่าว', 'คุณภาพชีวิต', 'แรงงาน', 'เศรษฐกิจ', 'สังคม', 'บริษัท จอร์จี้ แอนด์ ลู จำกัด', 'สหภาพแรงงานอุตสาหกรรมสิ่งทอและตัดเย็บเสื้อผ้าสัมพันธ์', 'สันกำแพง', 'เชียงใหม่']\", \"['บทความ', 'การเมือง', 'วัฒนธรรม', 'กวีประชาไท', 'ธุลีดาวหาง']\", \"['ข่าว', 'การเมือง', 'สิทธิมนุษยชน']\", \"['ข่าว', 'เศรษฐกิจ', 'สังคม', 'แรงงาน', 'คุณภาพชีวิต', 'สถานการณ์แรงงานประจำสัปดาห์']\", \"['ข่าว', 'คุณภาพชีวิต', 'แรงงาน', 'เศรษฐกิจ', 'สังคม', 'ตลาดแรงงาน', 'ประกันสังคม', 'ว่างงาน', 'เลิกจ้าง']\", \"['ข่าว', 'แรงงาน', 'เศรษฐกิจ', 'สถานการณ์แรงงานประจำสัปดาห์']\", \"['รายงานพิเศษ', 'คุณภาพชีวิต', 'ต่างประเทศ', 'แรงงาน', 'สังคม', 'รอบโลกแรงงาน']\", \"['บทความ', 'การเมือง', 'วัฒนธรรม', 'กวีประชาไท', 'สุขุมพจน์ คำสุขุม']\", \"['ข่าว', 'การเมือง', 'เศรษฐกิจ']\", \"['ข่าว', 'การเมือง', 'คนเสื้อแดง']\", \"['ข่าว', 'คุณภาพชีวิต', 'แรงงาน', 'เศรษฐกิจ', 'สังคม', 'ข้อเรียกร้องเปลี่ยนแปลงสภาพการจ้าง', 'ธนาคารกรุงเทพ', 'พนักงานธนาคาร', 'สหภาพแรงงานธนาคารกรุงเทพ']\", \"['ข่าว', 'สิทธิมนุษยชน', 'แรงงาน', 'เศรษฐกิจ', 'สถานการณ์แรงงานประจำสัปดาห์']\", \"['ข่าว', 'แรงงาน']\", \"['ข่าว', 'การเมือง', 'คุณภาพชีวิต', 'ต่างประเทศ', 'เศรษฐกิจ']\", \"['บทความ', 'การเมือง', 'วัฒนธรรม', 'กวีประชาไท', 'เวฬุ เวสารัช']\", \"['ข่าว', 'คุณภาพชีวิต', 'สังคม', 'สปสช.']\", \"['ข่าว', 'คุณภาพชีวิต']\"]\n",
      "ขนาดของ filtered_data: (22051, 2)\n"
     ]
    }
   ],
   "source": [
    "# กำหนดค่าต่ำสุดสำหรับจำนวน labels\n",
    "min_label_count = 10\n",
    "\n",
    "# ตรวจสอบจำนวน labels ที่ปรากฏในข้อมูล\n",
    "label_counts = data_df['labels'].value_counts()\n",
    "print(\"จำนวนแต่ละ label ก่อนการกรอง:\")\n",
    "print(label_counts)\n",
    "\n",
    "# กำหนด labels ที่จะเก็บ โดยไม่รวม labels ที่มีจำนวนตัวอย่างน้อยกว่าค่าที่กำหนด\n",
    "labels_to_keep = label_counts[label_counts >= min_label_count].index.tolist()\n",
    "print(\"Labels ที่จะเก็บ:\")\n",
    "print(labels_to_keep)\n",
    "\n",
    "# กรองข้อมูลเพื่อลบ labels ที่ไม่มีใน labels_to_keep และลบ NaN และ labels ที่เป็น [] \n",
    "filtered_data = data_df[\n",
    "    data_df['labels'].isin(labels_to_keep) &\n",
    "    data_df['labels'].notna() & \n",
    "    (data_df['labels'].astype(str) != '[]')  # ลบ labels ที่เป็น []\n",
    "]\n",
    "\n",
    "# แสดงขนาดของ filtered_data\n",
    "print(f\"ขนาดของ filtered_data: {filtered_data.shape}\")"
   ]
  },
  {
   "cell_type": "code",
   "execution_count": 6,
   "metadata": {},
   "outputs": [
    {
     "data": {
      "text/html": [
       "<div>\n",
       "<style scoped>\n",
       "    .dataframe tbody tr th:only-of-type {\n",
       "        vertical-align: middle;\n",
       "    }\n",
       "\n",
       "    .dataframe tbody tr th {\n",
       "        vertical-align: top;\n",
       "    }\n",
       "\n",
       "    .dataframe thead th {\n",
       "        text-align: right;\n",
       "    }\n",
       "</style>\n",
       "<table border=\"1\" class=\"dataframe\">\n",
       "  <thead>\n",
       "    <tr style=\"text-align: right;\">\n",
       "      <th></th>\n",
       "      <th>labels</th>\n",
       "      <th>combined_text</th>\n",
       "    </tr>\n",
       "  </thead>\n",
       "  <tbody>\n",
       "    <tr>\n",
       "      <th>0</th>\n",
       "      <td>['ข่าว', 'สิ่งแวดล้อม']</td>\n",
       "      <td>นักวิจัยหนุน  \"แม้ว\"  เปิด  \"จีเอ็มโอ\" ประชาไท...</td>\n",
       "    </tr>\n",
       "    <tr>\n",
       "      <th>1</th>\n",
       "      <td>['ข่าว', 'สิ่งแวดล้อม']</td>\n",
       "      <td>ภาคประชาชนต้านเปิดเสรีจีเอ็มโอ ประชาไท- 23 ส.ค...</td>\n",
       "    </tr>\n",
       "    <tr>\n",
       "      <th>2</th>\n",
       "      <td>['ข่าว', 'สิ่งแวดล้อม']</td>\n",
       "      <td>จุฬาฯ ห่วงจีเอ็มโอลามข้าวไทย  นโยบายที่อนุญาตใ...</td>\n",
       "    </tr>\n",
       "    <tr>\n",
       "      <th>4</th>\n",
       "      <td>['ข่าว', 'สิ่งแวดล้อม']</td>\n",
       "      <td>กอต.เสนอเลิกถนนคลองลาน-อุ้มผาง ประชาไท-23 ส.ค....</td>\n",
       "    </tr>\n",
       "    <tr>\n",
       "      <th>5</th>\n",
       "      <td>['ข่าว', 'สิ่งแวดล้อม']</td>\n",
       "      <td>สำรวจเส้นทางอดีตถนนสายความมั่งคง คลองลาน - อุ้...</td>\n",
       "    </tr>\n",
       "  </tbody>\n",
       "</table>\n",
       "</div>"
      ],
      "text/plain": [
       "                    labels                                      combined_text\n",
       "0  ['ข่าว', 'สิ่งแวดล้อม']  นักวิจัยหนุน  \"แม้ว\"  เปิด  \"จีเอ็มโอ\" ประชาไท...\n",
       "1  ['ข่าว', 'สิ่งแวดล้อม']  ภาคประชาชนต้านเปิดเสรีจีเอ็มโอ ประชาไท- 23 ส.ค...\n",
       "2  ['ข่าว', 'สิ่งแวดล้อม']  จุฬาฯ ห่วงจีเอ็มโอลามข้าวไทย  นโยบายที่อนุญาตใ...\n",
       "4  ['ข่าว', 'สิ่งแวดล้อม']  กอต.เสนอเลิกถนนคลองลาน-อุ้มผาง ประชาไท-23 ส.ค....\n",
       "5  ['ข่าว', 'สิ่งแวดล้อม']  สำรวจเส้นทางอดีตถนนสายความมั่งคง คลองลาน - อุ้..."
      ]
     },
     "execution_count": 6,
     "metadata": {},
     "output_type": "execute_result"
    }
   ],
   "source": [
    "filtered_data.head()"
   ]
  },
  {
   "cell_type": "markdown",
   "metadata": {},
   "source": [
    "Tokenized by PythaiNLP"
   ]
  },
  {
   "cell_type": "code",
   "execution_count": 7,
   "metadata": {},
   "outputs": [
    {
     "name": "stderr",
     "output_type": "stream",
     "text": [
      "/var/folders/l7/t9wyr70x2xn4_r156p46wg880000gn/T/ipykernel_52718/3974605809.py:1: SettingWithCopyWarning: \n",
      "A value is trying to be set on a copy of a slice from a DataFrame.\n",
      "Try using .loc[row_indexer,col_indexer] = value instead\n",
      "\n",
      "See the caveats in the documentation: https://pandas.pydata.org/pandas-docs/stable/user_guide/indexing.html#returning-a-view-versus-a-copy\n",
      "  filtered_data['tokenized_text'] = filtered_data['combined_text'].apply(lambda x: ' '.join(word_tokenize(x, engine='newmm')))\n"
     ]
    }
   ],
   "source": [
    "filtered_data['tokenized_text'] = filtered_data['combined_text'].apply(lambda x: ' '.join(word_tokenize(x, engine='newmm')))"
   ]
  },
  {
   "cell_type": "code",
   "execution_count": 8,
   "metadata": {},
   "outputs": [
    {
     "data": {
      "text/html": [
       "<div>\n",
       "<style scoped>\n",
       "    .dataframe tbody tr th:only-of-type {\n",
       "        vertical-align: middle;\n",
       "    }\n",
       "\n",
       "    .dataframe tbody tr th {\n",
       "        vertical-align: top;\n",
       "    }\n",
       "\n",
       "    .dataframe thead th {\n",
       "        text-align: right;\n",
       "    }\n",
       "</style>\n",
       "<table border=\"1\" class=\"dataframe\">\n",
       "  <thead>\n",
       "    <tr style=\"text-align: right;\">\n",
       "      <th></th>\n",
       "      <th>labels</th>\n",
       "      <th>combined_text</th>\n",
       "      <th>tokenized_text</th>\n",
       "    </tr>\n",
       "  </thead>\n",
       "  <tbody>\n",
       "    <tr>\n",
       "      <th>0</th>\n",
       "      <td>['ข่าว', 'สิ่งแวดล้อม']</td>\n",
       "      <td>นักวิจัยหนุน  \"แม้ว\"  เปิด  \"จีเอ็มโอ\" ประชาไท...</td>\n",
       "      <td>นักวิจัย หนุน    \" แม้ว \"    เปิด    \" จีเอ็มโ...</td>\n",
       "    </tr>\n",
       "    <tr>\n",
       "      <th>1</th>\n",
       "      <td>['ข่าว', 'สิ่งแวดล้อม']</td>\n",
       "      <td>ภาคประชาชนต้านเปิดเสรีจีเอ็มโอ ประชาไท- 23 ส.ค...</td>\n",
       "      <td>ภาค ประชาชน ต้าน เปิด เสรี จีเอ็มโอ   ประชา ไท...</td>\n",
       "    </tr>\n",
       "    <tr>\n",
       "      <th>2</th>\n",
       "      <td>['ข่าว', 'สิ่งแวดล้อม']</td>\n",
       "      <td>จุฬาฯ ห่วงจีเอ็มโอลามข้าวไทย  นโยบายที่อนุญาตใ...</td>\n",
       "      <td>จุฬาฯ   ห่วง จีเอ็มโอ ลาม ข้าว ไทย    นโยบาย ท...</td>\n",
       "    </tr>\n",
       "    <tr>\n",
       "      <th>4</th>\n",
       "      <td>['ข่าว', 'สิ่งแวดล้อม']</td>\n",
       "      <td>กอต.เสนอเลิกถนนคลองลาน-อุ้มผาง ประชาไท-23 ส.ค....</td>\n",
       "      <td>กอ ต. เสนอ เลิก ถนน คลอง ลาน - อุ้มผาง   ประชา...</td>\n",
       "    </tr>\n",
       "    <tr>\n",
       "      <th>5</th>\n",
       "      <td>['ข่าว', 'สิ่งแวดล้อม']</td>\n",
       "      <td>สำรวจเส้นทางอดีตถนนสายความมั่งคง คลองลาน - อุ้...</td>\n",
       "      <td>สำรวจ เส้นทาง อดีต ถนน สาย ความ มั่ง คง   คลอง...</td>\n",
       "    </tr>\n",
       "  </tbody>\n",
       "</table>\n",
       "</div>"
      ],
      "text/plain": [
       "                    labels                                      combined_text  \\\n",
       "0  ['ข่าว', 'สิ่งแวดล้อม']  นักวิจัยหนุน  \"แม้ว\"  เปิด  \"จีเอ็มโอ\" ประชาไท...   \n",
       "1  ['ข่าว', 'สิ่งแวดล้อม']  ภาคประชาชนต้านเปิดเสรีจีเอ็มโอ ประชาไท- 23 ส.ค...   \n",
       "2  ['ข่าว', 'สิ่งแวดล้อม']  จุฬาฯ ห่วงจีเอ็มโอลามข้าวไทย  นโยบายที่อนุญาตใ...   \n",
       "4  ['ข่าว', 'สิ่งแวดล้อม']  กอต.เสนอเลิกถนนคลองลาน-อุ้มผาง ประชาไท-23 ส.ค....   \n",
       "5  ['ข่าว', 'สิ่งแวดล้อม']  สำรวจเส้นทางอดีตถนนสายความมั่งคง คลองลาน - อุ้...   \n",
       "\n",
       "                                      tokenized_text  \n",
       "0  นักวิจัย หนุน    \" แม้ว \"    เปิด    \" จีเอ็มโ...  \n",
       "1  ภาค ประชาชน ต้าน เปิด เสรี จีเอ็มโอ   ประชา ไท...  \n",
       "2  จุฬาฯ   ห่วง จีเอ็มโอ ลาม ข้าว ไทย    นโยบาย ท...  \n",
       "4  กอ ต. เสนอ เลิก ถนน คลอง ลาน - อุ้มผาง   ประชา...  \n",
       "5  สำรวจ เส้นทาง อดีต ถนน สาย ความ มั่ง คง   คลอง...  "
      ]
     },
     "execution_count": 8,
     "metadata": {},
     "output_type": "execute_result"
    }
   ],
   "source": [
    "filtered_data.head()"
   ]
  },
  {
   "cell_type": "code",
   "execution_count": 9,
   "metadata": {},
   "outputs": [
    {
     "name": "stderr",
     "output_type": "stream",
     "text": [
      "/var/folders/l7/t9wyr70x2xn4_r156p46wg880000gn/T/ipykernel_52718/348169435.py:16: SettingWithCopyWarning: \n",
      "A value is trying to be set on a copy of a slice from a DataFrame.\n",
      "Try using .loc[row_indexer,col_indexer] = value instead\n",
      "\n",
      "See the caveats in the documentation: https://pandas.pydata.org/pandas-docs/stable/user_guide/indexing.html#returning-a-view-versus-a-copy\n",
      "  filtered_data['cleaned_text'] = filtered_data['tokenized_text'].apply(clean_text)\n"
     ]
    }
   ],
   "source": [
    "import re\n",
    "from pythainlp.corpus import thai_stopwords\n",
    "\n",
    "# กำหนด stop words ภาษาไทย\n",
    "stopwords = list(thai_stopwords())\n",
    "\n",
    "# ฟังก์ชันลบสัญลักษณ์พิเศษ, ตัวเลข, และ stop words\n",
    "def clean_text(text):\n",
    "    # ลบสัญลักษณ์พิเศษ, ตัวเลข, และเครื่องหมาย ':' ออกจากข้อความ\n",
    "    text = re.sub(r'[\\\"\\'\\(\\)\\-\\.!/,0-9:]', '', text)\n",
    "    \n",
    "    # ลบ stop words\n",
    "    return ' '.join([word for word in text.split() if word not in stopwords])\n",
    "\n",
    "# ตัวอย่างการใช้งาน\n",
    "filtered_data['cleaned_text'] = filtered_data['tokenized_text'].apply(clean_text)\n"
   ]
  },
  {
   "cell_type": "code",
   "execution_count": 10,
   "metadata": {},
   "outputs": [
    {
     "data": {
      "text/html": [
       "<div>\n",
       "<style scoped>\n",
       "    .dataframe tbody tr th:only-of-type {\n",
       "        vertical-align: middle;\n",
       "    }\n",
       "\n",
       "    .dataframe tbody tr th {\n",
       "        vertical-align: top;\n",
       "    }\n",
       "\n",
       "    .dataframe thead th {\n",
       "        text-align: right;\n",
       "    }\n",
       "</style>\n",
       "<table border=\"1\" class=\"dataframe\">\n",
       "  <thead>\n",
       "    <tr style=\"text-align: right;\">\n",
       "      <th></th>\n",
       "      <th>labels</th>\n",
       "      <th>combined_text</th>\n",
       "      <th>tokenized_text</th>\n",
       "      <th>cleaned_text</th>\n",
       "    </tr>\n",
       "  </thead>\n",
       "  <tbody>\n",
       "    <tr>\n",
       "      <th>0</th>\n",
       "      <td>['ข่าว', 'สิ่งแวดล้อม']</td>\n",
       "      <td>นักวิจัยหนุน  \"แม้ว\"  เปิด  \"จีเอ็มโอ\" ประชาไท...</td>\n",
       "      <td>นักวิจัย หนุน    \" แม้ว \"    เปิด    \" จีเอ็มโ...</td>\n",
       "      <td>นักวิจัย หนุน แม้ว จีเอ็มโอ ประชา ไท สค นักวิจ...</td>\n",
       "    </tr>\n",
       "    <tr>\n",
       "      <th>1</th>\n",
       "      <td>['ข่าว', 'สิ่งแวดล้อม']</td>\n",
       "      <td>ภาคประชาชนต้านเปิดเสรีจีเอ็มโอ ประชาไท- 23 ส.ค...</td>\n",
       "      <td>ภาค ประชาชน ต้าน เปิด เสรี จีเอ็มโอ   ประชา ไท...</td>\n",
       "      <td>ประชาชน ต้าน เสรี จีเอ็มโอ ประชา ไท สค นักวิชา...</td>\n",
       "    </tr>\n",
       "    <tr>\n",
       "      <th>2</th>\n",
       "      <td>['ข่าว', 'สิ่งแวดล้อม']</td>\n",
       "      <td>จุฬาฯ ห่วงจีเอ็มโอลามข้าวไทย  นโยบายที่อนุญาตใ...</td>\n",
       "      <td>จุฬาฯ   ห่วง จีเอ็มโอ ลาม ข้าว ไทย    นโยบาย ท...</td>\n",
       "      <td>จุฬาฯ ห่วง จีเอ็มโอ ลาม ข้าว ไทย นโยบาย อนุญาต...</td>\n",
       "    </tr>\n",
       "    <tr>\n",
       "      <th>4</th>\n",
       "      <td>['ข่าว', 'สิ่งแวดล้อม']</td>\n",
       "      <td>กอต.เสนอเลิกถนนคลองลาน-อุ้มผาง ประชาไท-23 ส.ค....</td>\n",
       "      <td>กอ ต. เสนอ เลิก ถนน คลอง ลาน - อุ้มผาง   ประชา...</td>\n",
       "      <td>กอ ต เสนอ เลิก ถนน คลอง ลาน อุ้มผาง ประชา ไท ส...</td>\n",
       "    </tr>\n",
       "    <tr>\n",
       "      <th>5</th>\n",
       "      <td>['ข่าว', 'สิ่งแวดล้อม']</td>\n",
       "      <td>สำรวจเส้นทางอดีตถนนสายความมั่งคง คลองลาน - อุ้...</td>\n",
       "      <td>สำรวจ เส้นทาง อดีต ถนน สาย ความ มั่ง คง   คลอง...</td>\n",
       "      <td>สำรวจ เส้นทาง ถนน สาย มั่ง คลอง ลาน อุ้มผาง ภา...</td>\n",
       "    </tr>\n",
       "  </tbody>\n",
       "</table>\n",
       "</div>"
      ],
      "text/plain": [
       "                    labels                                      combined_text  \\\n",
       "0  ['ข่าว', 'สิ่งแวดล้อม']  นักวิจัยหนุน  \"แม้ว\"  เปิด  \"จีเอ็มโอ\" ประชาไท...   \n",
       "1  ['ข่าว', 'สิ่งแวดล้อม']  ภาคประชาชนต้านเปิดเสรีจีเอ็มโอ ประชาไท- 23 ส.ค...   \n",
       "2  ['ข่าว', 'สิ่งแวดล้อม']  จุฬาฯ ห่วงจีเอ็มโอลามข้าวไทย  นโยบายที่อนุญาตใ...   \n",
       "4  ['ข่าว', 'สิ่งแวดล้อม']  กอต.เสนอเลิกถนนคลองลาน-อุ้มผาง ประชาไท-23 ส.ค....   \n",
       "5  ['ข่าว', 'สิ่งแวดล้อม']  สำรวจเส้นทางอดีตถนนสายความมั่งคง คลองลาน - อุ้...   \n",
       "\n",
       "                                      tokenized_text  \\\n",
       "0  นักวิจัย หนุน    \" แม้ว \"    เปิด    \" จีเอ็มโ...   \n",
       "1  ภาค ประชาชน ต้าน เปิด เสรี จีเอ็มโอ   ประชา ไท...   \n",
       "2  จุฬาฯ   ห่วง จีเอ็มโอ ลาม ข้าว ไทย    นโยบาย ท...   \n",
       "4  กอ ต. เสนอ เลิก ถนน คลอง ลาน - อุ้มผาง   ประชา...   \n",
       "5  สำรวจ เส้นทาง อดีต ถนน สาย ความ มั่ง คง   คลอง...   \n",
       "\n",
       "                                        cleaned_text  \n",
       "0  นักวิจัย หนุน แม้ว จีเอ็มโอ ประชา ไท สค นักวิจ...  \n",
       "1  ประชาชน ต้าน เสรี จีเอ็มโอ ประชา ไท สค นักวิชา...  \n",
       "2  จุฬาฯ ห่วง จีเอ็มโอ ลาม ข้าว ไทย นโยบาย อนุญาต...  \n",
       "4  กอ ต เสนอ เลิก ถนน คลอง ลาน อุ้มผาง ประชา ไท ส...  \n",
       "5  สำรวจ เส้นทาง ถนน สาย มั่ง คลอง ลาน อุ้มผาง ภา...  "
      ]
     },
     "execution_count": 10,
     "metadata": {},
     "output_type": "execute_result"
    }
   ],
   "source": [
    "filtered_data.head()"
   ]
  },
  {
   "cell_type": "code",
   "execution_count": 11,
   "metadata": {},
   "outputs": [],
   "source": [
    "filtered_data = filtered_data.drop(columns=['combined_text', 'tokenized_text'])"
   ]
  },
  {
   "cell_type": "code",
   "execution_count": 12,
   "metadata": {},
   "outputs": [
    {
     "data": {
      "text/html": [
       "<div>\n",
       "<style scoped>\n",
       "    .dataframe tbody tr th:only-of-type {\n",
       "        vertical-align: middle;\n",
       "    }\n",
       "\n",
       "    .dataframe tbody tr th {\n",
       "        vertical-align: top;\n",
       "    }\n",
       "\n",
       "    .dataframe thead th {\n",
       "        text-align: right;\n",
       "    }\n",
       "</style>\n",
       "<table border=\"1\" class=\"dataframe\">\n",
       "  <thead>\n",
       "    <tr style=\"text-align: right;\">\n",
       "      <th></th>\n",
       "      <th>labels</th>\n",
       "      <th>cleaned_text</th>\n",
       "    </tr>\n",
       "  </thead>\n",
       "  <tbody>\n",
       "    <tr>\n",
       "      <th>0</th>\n",
       "      <td>['ข่าว', 'สิ่งแวดล้อม']</td>\n",
       "      <td>นักวิจัย หนุน แม้ว จีเอ็มโอ ประชา ไท สค นักวิจ...</td>\n",
       "    </tr>\n",
       "    <tr>\n",
       "      <th>1</th>\n",
       "      <td>['ข่าว', 'สิ่งแวดล้อม']</td>\n",
       "      <td>ประชาชน ต้าน เสรี จีเอ็มโอ ประชา ไท สค นักวิชา...</td>\n",
       "    </tr>\n",
       "    <tr>\n",
       "      <th>2</th>\n",
       "      <td>['ข่าว', 'สิ่งแวดล้อม']</td>\n",
       "      <td>จุฬาฯ ห่วง จีเอ็มโอ ลาม ข้าว ไทย นโยบาย อนุญาต...</td>\n",
       "    </tr>\n",
       "    <tr>\n",
       "      <th>4</th>\n",
       "      <td>['ข่าว', 'สิ่งแวดล้อม']</td>\n",
       "      <td>กอ ต เสนอ เลิก ถนน คลอง ลาน อุ้มผาง ประชา ไท ส...</td>\n",
       "    </tr>\n",
       "    <tr>\n",
       "      <th>5</th>\n",
       "      <td>['ข่าว', 'สิ่งแวดล้อม']</td>\n",
       "      <td>สำรวจ เส้นทาง ถนน สาย มั่ง คลอง ลาน อุ้มผาง ภา...</td>\n",
       "    </tr>\n",
       "  </tbody>\n",
       "</table>\n",
       "</div>"
      ],
      "text/plain": [
       "                    labels                                       cleaned_text\n",
       "0  ['ข่าว', 'สิ่งแวดล้อม']  นักวิจัย หนุน แม้ว จีเอ็มโอ ประชา ไท สค นักวิจ...\n",
       "1  ['ข่าว', 'สิ่งแวดล้อม']  ประชาชน ต้าน เสรี จีเอ็มโอ ประชา ไท สค นักวิชา...\n",
       "2  ['ข่าว', 'สิ่งแวดล้อม']  จุฬาฯ ห่วง จีเอ็มโอ ลาม ข้าว ไทย นโยบาย อนุญาต...\n",
       "4  ['ข่าว', 'สิ่งแวดล้อม']  กอ ต เสนอ เลิก ถนน คลอง ลาน อุ้มผาง ประชา ไท ส...\n",
       "5  ['ข่าว', 'สิ่งแวดล้อม']  สำรวจ เส้นทาง ถนน สาย มั่ง คลอง ลาน อุ้มผาง ภา..."
      ]
     },
     "execution_count": 12,
     "metadata": {},
     "output_type": "execute_result"
    }
   ],
   "source": [
    "filtered_data.head()"
   ]
  },
  {
   "cell_type": "code",
   "execution_count": 13,
   "metadata": {},
   "outputs": [
    {
     "name": "stdout",
     "output_type": "stream",
     "text": [
      "จำนวนแถวที่มี NaN: 0\n",
      "ตัวอย่างแถวที่มี NaN:\n",
      "Empty DataFrame\n",
      "Columns: [labels, cleaned_text]\n",
      "Index: []\n"
     ]
    }
   ],
   "source": [
    "# ตรวจสอบว่ามีค่าที่เป็น NaN ใน DataFrame หรือไม่\n",
    "nan_rows = filtered_data[filtered_data.isna().any(axis=1)]\n",
    "\n",
    "# แสดงจำนวนแถวที่มี NaN และตัวอย่างของแถวเหล่านั้น\n",
    "nan_count = nan_rows.shape[0]\n",
    "print(f\"จำนวนแถวที่มี NaN: {nan_count}\")\n",
    "print(\"ตัวอย่างแถวที่มี NaN:\")\n",
    "print(nan_rows)"
   ]
  },
  {
   "cell_type": "code",
   "execution_count": 14,
   "metadata": {},
   "outputs": [
    {
     "name": "stdout",
     "output_type": "stream",
     "text": [
      "                      labels  \\\n",
      "count                  22051   \n",
      "unique                    35   \n",
      "top     ['ข่าว', 'การเมือง']   \n",
      "freq                   14110   \n",
      "\n",
      "                                             cleaned_text  \n",
      "count                                               22051  \n",
      "unique                                              21776  \n",
      "top     วอ ล เดน เบล โล WTO ฮ่องกง แย่มาก สำหรับ อ่าน ...  \n",
      "freq                                                    3  \n"
     ]
    }
   ],
   "source": [
    "# แสดงสถิติของคอลัมน์ทั้งหมด\n",
    "print(filtered_data.describe(include='all'))"
   ]
  },
  {
   "cell_type": "code",
   "execution_count": 15,
   "metadata": {},
   "outputs": [
    {
     "name": "stdout",
     "output_type": "stream",
     "text": [
      "'คน': 128973 ครั้ง\n",
      "'ไทย': 109428 ครั้ง\n",
      "'ประชาชน': 79654 ครั้ง\n",
      "'เรื่อง': 75662 ครั้ง\n",
      "'ปี': 73078 ครั้ง\n",
      "'ประเทศ': 69102 ครั้ง\n",
      "'รัฐบาล': 67721 ครั้ง\n",
      "'ทำ': 55986 ครั้ง\n",
      "'ที่จะ': 51064 ครั้ง\n",
      "'พื้นที่': 50953 ครั้ง\n",
      "'แรงงาน': 48735 ครั้ง\n",
      "'วันที่': 45712 ครั้ง\n",
      "'รัฐ': 42797 ครั้ง\n",
      "'จังหวัด': 42296 ครั้ง\n",
      "'สังคม': 39533 ครั้ง\n",
      "'ผม': 38643 ครั้ง\n",
      "'สร้าง': 37593 ครั้ง\n",
      "'สิทธิ': 34702 ครั้ง\n",
      "'ปัญหา': 33892 ครั้ง\n",
      "'บาท': 33463 ครั้ง\n",
      "'กล่าวว่า': 31959 ครั้ง\n",
      "'กรณี': 29937 ครั้ง\n",
      "'ชาวบ้าน': 29487 ครั้ง\n",
      "'รัฐธรรมนูญ': 28660 ครั้ง\n",
      "'จำนวน': 28418 ครั้ง\n",
      "'ระบบ': 28326 ครั้ง\n",
      "'กฎหมาย': 28052 ครั้ง\n",
      "'ที่ผ่านมา': 27951 ครั้ง\n",
      "'ล้าน': 27705 ครั้ง\n",
      "'บริษัท': 27523 ครั้ง\n",
      "'อ': 26867 ครั้ง\n",
      "'เกิดขึ้น': 26299 ครั้ง\n",
      "'คณะกรรมการ': 26197 ครั้ง\n",
      "'โครงการ': 26162 ครั้ง\n",
      "'ชุมนุม': 26093 ครั้ง\n",
      "'การเมือง': 26066 ครั้ง\n",
      "'ชุมชน': 25565 ครั้ง\n",
      "'ดี': 25414 ครั้ง\n",
      "'ประชาธิปไตย': 24536 ครั้ง\n",
      "'เดือน': 24371 ครั้ง\n"
     ]
    }
   ],
   "source": [
    "from collections import Counter\n",
    "\n",
    "# นำข้อความที่ผ่านการลบ stopwords มารวมกันทั้งหมดแล้วตัดคำแยกออก\n",
    "all_words = ' '.join(filtered_data['cleaned_text']).split()\n",
    "\n",
    "# นับจำนวนคำที่พบ\n",
    "word_counts = Counter(all_words)\n",
    "\n",
    "# จัดเรียงคำตามจำนวนการปรากฏมากไปน้อย\n",
    "sorted_word_counts = word_counts.most_common(40)\n",
    "\n",
    "# แสดง 20 คำที่ปรากฏบ่อยที่สุด\n",
    "for word, count in sorted_word_counts:\n",
    "    print(f\"'{word}': {count} ครั้ง\")"
   ]
  },
  {
   "cell_type": "code",
   "execution_count": 16,
   "metadata": {},
   "outputs": [
    {
     "data": {
      "text/html": [
       "<div>\n",
       "<style scoped>\n",
       "    .dataframe tbody tr th:only-of-type {\n",
       "        vertical-align: middle;\n",
       "    }\n",
       "\n",
       "    .dataframe tbody tr th {\n",
       "        vertical-align: top;\n",
       "    }\n",
       "\n",
       "    .dataframe thead th {\n",
       "        text-align: right;\n",
       "    }\n",
       "</style>\n",
       "<table border=\"1\" class=\"dataframe\">\n",
       "  <thead>\n",
       "    <tr style=\"text-align: right;\">\n",
       "      <th></th>\n",
       "      <th>labels</th>\n",
       "      <th>cleaned_text</th>\n",
       "    </tr>\n",
       "  </thead>\n",
       "  <tbody>\n",
       "    <tr>\n",
       "      <th>0</th>\n",
       "      <td>['ข่าว', 'สิ่งแวดล้อม']</td>\n",
       "      <td>นักวิจัย หนุน แม้ว จีเอ็มโอ ประชา ไท สค นักวิจ...</td>\n",
       "    </tr>\n",
       "    <tr>\n",
       "      <th>1</th>\n",
       "      <td>['ข่าว', 'สิ่งแวดล้อม']</td>\n",
       "      <td>ประชาชน ต้าน เสรี จีเอ็มโอ ประชา ไท สค นักวิชา...</td>\n",
       "    </tr>\n",
       "    <tr>\n",
       "      <th>2</th>\n",
       "      <td>['ข่าว', 'สิ่งแวดล้อม']</td>\n",
       "      <td>จุฬาฯ ห่วง จีเอ็มโอ ลาม ข้าว ไทย นโยบาย อนุญาต...</td>\n",
       "    </tr>\n",
       "    <tr>\n",
       "      <th>4</th>\n",
       "      <td>['ข่าว', 'สิ่งแวดล้อม']</td>\n",
       "      <td>กอ ต เสนอ เลิก ถนน คลอง ลาน อุ้มผาง ประชา ไท ส...</td>\n",
       "    </tr>\n",
       "    <tr>\n",
       "      <th>5</th>\n",
       "      <td>['ข่าว', 'สิ่งแวดล้อม']</td>\n",
       "      <td>สำรวจ เส้นทาง ถนน สาย มั่ง คลอง ลาน อุ้มผาง ภา...</td>\n",
       "    </tr>\n",
       "    <tr>\n",
       "      <th>7</th>\n",
       "      <td>['ข่าว', 'สิ่งแวดล้อม']</td>\n",
       "      <td>ปี เส้นทาง สาย โครงการ ถนน สาย คลอง ลาน อุ้มผา...</td>\n",
       "    </tr>\n",
       "    <tr>\n",
       "      <th>8</th>\n",
       "      <td>['ข่าว', 'สิ่งแวดล้อม']</td>\n",
       "      <td>เบนซิน ขยับ บาท ลิตร กรุงเทพฯ สค กระทรวง พลังง...</td>\n",
       "    </tr>\n",
       "    <tr>\n",
       "      <th>9</th>\n",
       "      <td>['บทความ']</td>\n",
       "      <td>บทวิเคราะห์ ความสัมพันธ์ บรรษัทข้ามชาติ สื่อ ร...</td>\n",
       "    </tr>\n",
       "    <tr>\n",
       "      <th>10</th>\n",
       "      <td>['ข่าว', 'สิ่งแวดล้อม']</td>\n",
       "      <td>จับตา วุฒิ สรรหา กทช กรุงเทพฯ สค ประธาน วุฒิสภ...</td>\n",
       "    </tr>\n",
       "    <tr>\n",
       "      <th>11</th>\n",
       "      <td>['ข่าว', 'สิ่งแวดล้อม']</td>\n",
       "      <td>รัฐ ประกาศ แก้ หนี้ ระบบ สำเร็จ กรุงเทพฯ สค พล...</td>\n",
       "    </tr>\n",
       "    <tr>\n",
       "      <th>12</th>\n",
       "      <td>['ข่าว', 'สิ่งแวดล้อม']</td>\n",
       "      <td>ครม แผน พี ดี พี ครม เห็นชอบ แผน พี ดี พี ฉบับ...</td>\n",
       "    </tr>\n",
       "  </tbody>\n",
       "</table>\n",
       "</div>"
      ],
      "text/plain": [
       "                     labels                                       cleaned_text\n",
       "0   ['ข่าว', 'สิ่งแวดล้อม']  นักวิจัย หนุน แม้ว จีเอ็มโอ ประชา ไท สค นักวิจ...\n",
       "1   ['ข่าว', 'สิ่งแวดล้อม']  ประชาชน ต้าน เสรี จีเอ็มโอ ประชา ไท สค นักวิชา...\n",
       "2   ['ข่าว', 'สิ่งแวดล้อม']  จุฬาฯ ห่วง จีเอ็มโอ ลาม ข้าว ไทย นโยบาย อนุญาต...\n",
       "4   ['ข่าว', 'สิ่งแวดล้อม']  กอ ต เสนอ เลิก ถนน คลอง ลาน อุ้มผาง ประชา ไท ส...\n",
       "5   ['ข่าว', 'สิ่งแวดล้อม']  สำรวจ เส้นทาง ถนน สาย มั่ง คลอง ลาน อุ้มผาง ภา...\n",
       "7   ['ข่าว', 'สิ่งแวดล้อม']  ปี เส้นทาง สาย โครงการ ถนน สาย คลอง ลาน อุ้มผา...\n",
       "8   ['ข่าว', 'สิ่งแวดล้อม']  เบนซิน ขยับ บาท ลิตร กรุงเทพฯ สค กระทรวง พลังง...\n",
       "9                ['บทความ']  บทวิเคราะห์ ความสัมพันธ์ บรรษัทข้ามชาติ สื่อ ร...\n",
       "10  ['ข่าว', 'สิ่งแวดล้อม']  จับตา วุฒิ สรรหา กทช กรุงเทพฯ สค ประธาน วุฒิสภ...\n",
       "11  ['ข่าว', 'สิ่งแวดล้อม']  รัฐ ประกาศ แก้ หนี้ ระบบ สำเร็จ กรุงเทพฯ สค พล...\n",
       "12  ['ข่าว', 'สิ่งแวดล้อม']  ครม แผน พี ดี พี ครม เห็นชอบ แผน พี ดี พี ฉบับ..."
      ]
     },
     "execution_count": 16,
     "metadata": {},
     "output_type": "execute_result"
    }
   ],
   "source": [
    "filtered_data.head(11)"
   ]
  },
  {
   "cell_type": "markdown",
   "metadata": {},
   "source": [
    "Tokenizer"
   ]
  },
  {
   "cell_type": "code",
   "execution_count": 19,
   "metadata": {},
   "outputs": [
    {
     "name": "stdout",
     "output_type": "stream",
     "text": [
      "จำนวนแต่ละ label ก่อนการกรอง:\n",
      "labels\n",
      "['ข่าว', 'การเมือง']                                                                                                                                                                                                                                        14110\n",
      "['ข่าว', 'สิ่งแวดล้อม']                                                                                                                                                                                                                                      4180\n",
      "['บทความ']                                                                                                                                                                                                                                                   1494\n",
      "['ข่าว', 'ขีดเส้นใต้']                                                                                                                                                                                                                                        619\n",
      "['ข่าว']                                                                                                                                                                                                                                                      554\n",
      "                                                                                                                                                                                                                                                            ...  \n",
      "['สัมภาษณ์', 'การเมือง', 'สิทธิมนุษยชน', 'ทนาย', 'ธิติพงษ์ ศรีแสน', 'พ.ร.บ.ว่าด้วยการกระทำความผิดเกี่ยวกับคอมพิวเตอร์ พ.ศ.2550', 'มาตรา 112', 'สุรภักดิ์']                                                                                                      1\n",
      "['ข่าว', 'คุณภาพชีวิต', 'คาเฟอีน', 'ฉลาดซื้อ', 'ชาพร้อมดื่ม']                                                                                                                                                                                                   1\n",
      "['ข่าว', 'การเมือง', 'การเข้าชื่อเสนอกฎหมาย', 'ร่างพระราชบัญญัติการจัดทำหนังสือสัญญาระหว่างประเทศ', 'ศาลปกครอง', 'เอฟทีเอ วอทช์']                                                                                                                               1\n",
      "['นักข่าวพลเมือง', 'คุณภาพชีวิต', 'สิทธิมนุษยชน', 'สังคม', 'กฏหมายความเสมอภาคระหว่างเพศ', 'กองทุนส่งเสริมโอกาสและความเสมอภาคระหว่างเพศ', 'การเข้าชื่อเสนอกฎหมาย', 'ภาคประชาชน', 'ร่าง พ.ร.บ.ส่งเสริมโอกาสและความเสมอภาคระหว่างเพศ (ฉบับประชาชน) พ.ศ...']        1\n",
      "['ข่าว', 'สิทธิมนุษยชน', 'ต่างประเทศ', 'อูยกูร์', 'เตอร์กิสถานตะวันออก', 'สภาอุยกูร์โลก', 'ค่ายกักกัน', 'วันประกาศเอกราช', 'จีน', 'ศาสนา', 'อิสลาม', 'ค่ายกักกันปลูกฝังความเชื่อใหม่']                                                                          1\n",
      "Name: count, Length: 44365, dtype: int64\n"
     ]
    }
   ],
   "source": [
    "# ตรวจสอบจำนวนแต่ละ label\n",
    "label_counts = data_df['labels'].value_counts()\n",
    "print(\"จำนวนแต่ละ label ก่อนการกรอง:\")\n",
    "print(label_counts)\n"
   ]
  },
  {
   "cell_type": "code",
   "execution_count": 20,
   "metadata": {},
   "outputs": [
    {
     "name": "stdout",
     "output_type": "stream",
     "text": [
      "ตัวอย่าง label ที่ถูกเข้ารหัส:\n",
      "[[1 1 1 0 0 0 0 0 1 1 0 1 0 1 0 0 0 0 0 0 1 0 0 0 0 0 0 0 0 0 0 1 0 0 0 1\n",
      "  1 0 0 1 0 0 1 0 0 1 0 1 0 0 0 0 0 1 0 0 0 0 1 1 0]\n",
      " [1 1 1 0 0 0 0 0 1 1 0 1 0 1 0 0 0 0 0 0 1 0 0 0 0 0 0 0 0 0 0 1 0 0 0 1\n",
      "  1 0 0 1 0 0 1 0 0 1 0 1 0 0 0 0 0 1 0 0 0 0 1 1 0]\n",
      " [1 1 1 0 0 0 0 0 1 1 0 1 0 1 0 0 0 0 0 0 1 0 0 0 0 0 0 0 0 0 0 1 0 0 0 1\n",
      "  1 0 0 1 0 0 1 0 0 1 0 1 0 0 0 0 0 1 0 0 0 0 1 1 0]\n",
      " [1 1 1 0 0 0 0 0 1 1 0 1 0 1 0 0 0 0 0 0 1 0 0 0 0 0 0 0 0 0 0 1 0 0 0 1\n",
      "  1 0 0 1 0 0 1 0 0 1 0 1 0 0 0 0 0 1 0 0 0 0 1 1 0]\n",
      " [1 1 1 0 0 0 0 0 1 1 0 1 0 1 0 0 0 0 0 0 1 0 0 0 0 0 0 0 0 0 0 1 0 0 0 1\n",
      "  1 0 0 1 0 0 1 0 0 1 0 1 0 0 0 0 0 1 0 0 0 0 1 1 0]]\n"
     ]
    }
   ],
   "source": [
    "from sklearn.preprocessing import MultiLabelBinarizer\n",
    "\n",
    "mlb = MultiLabelBinarizer()\n",
    "labels_encoded = mlb.fit_transform(filtered_data['labels'])\n",
    "print(\"ตัวอย่าง label ที่ถูกเข้ารหัส:\")\n",
    "print(labels_encoded[:5])  # แสดงตัวอย่าง 5 label ที่ถูกเข้ารหัส"
   ]
  },
  {
   "cell_type": "code",
   "execution_count": 23,
   "metadata": {},
   "outputs": [
    {
     "name": "stdout",
     "output_type": "stream",
     "text": [
      "ตัวอย่างลำดับข้อความ:\n",
      "[[   0    0    0 ... 1053   87  151]\n",
      " [   0    0    0 ... 1053   87  151]\n",
      " [   0    0    0 ... 1053   87  151]\n",
      " [   0    0    0 ... 1053   87  151]\n",
      " [   6  220 2782 ... 1053   87  151]]\n"
     ]
    }
   ],
   "source": [
    "from keras.preprocessing.text import Tokenizer\n",
    "\n",
    "\n",
    "tokenizer = Tokenizer()\n",
    "tokenizer.fit_on_texts(filtered_data['cleaned_text'])\n",
    "sequences = tokenizer.texts_to_sequences(filtered_data['cleaned_text'])\n",
    "max_len = 500  # ความยาวสูงสุดของลำดับ\n",
    "padded_sequences = pad_sequences(sequences, maxlen=max_len)\n",
    "\n",
    "print(\"ตัวอย่างลำดับข้อความ:\")\n",
    "print(padded_sequences[:5])  # แสดงตัวอย่าง 5 ลำดับ\n"
   ]
  },
  {
   "cell_type": "code",
   "execution_count": 18,
   "metadata": {},
   "outputs": [
    {
     "name": "stdout",
     "output_type": "stream",
     "text": [
      "ขนาดของข้อมูลหลังทำ padding:\n",
      "(22051, 500)\n"
     ]
    }
   ],
   "source": [
    "from tensorflow.keras.preprocessing.sequence import pad_sequences\n",
    "\n",
    "max_len = 500\n",
    "data = pad_sequences(sequences, maxlen=max_len)\n",
    "print(\"ขนาดของข้อมูลหลังทำ padding:\")\n",
    "print(data.shape)  # แสดงขนาดของข้อมูลหลังทำ padding\n"
   ]
  },
  {
   "cell_type": "code",
   "execution_count": 19,
   "metadata": {},
   "outputs": [
    {
     "name": "stdout",
     "output_type": "stream",
     "text": [
      "ตัวอย่าง label ที่ถูกเข้ารหัส:\n",
      "[[1 1 1 0 0 0 0 0 1 1 0 1 0 1 0 0 0 0 0 0 1 0 0 0 0 0 0 0 0 0 0 1 0 0 0 1\n",
      "  1 0 0 1 0 0 1 0 0 1 0 1 0 0 0 0 0 1 0 0 0 0 1 1 0]\n",
      " [1 1 1 0 0 0 0 0 1 1 0 1 0 1 0 0 0 0 0 0 1 0 0 0 0 0 0 0 0 0 0 1 0 0 0 1\n",
      "  1 0 0 1 0 0 1 0 0 1 0 1 0 0 0 0 0 1 0 0 0 0 1 1 0]\n",
      " [1 1 1 0 0 0 0 0 1 1 0 1 0 1 0 0 0 0 0 0 1 0 0 0 0 0 0 0 0 0 0 1 0 0 0 1\n",
      "  1 0 0 1 0 0 1 0 0 1 0 1 0 0 0 0 0 1 0 0 0 0 1 1 0]\n",
      " [1 1 1 0 0 0 0 0 1 1 0 1 0 1 0 0 0 0 0 0 1 0 0 0 0 0 0 0 0 0 0 1 0 0 0 1\n",
      "  1 0 0 1 0 0 1 0 0 1 0 1 0 0 0 0 0 1 0 0 0 0 1 1 0]\n",
      " [1 1 1 0 0 0 0 0 1 1 0 1 0 1 0 0 0 0 0 0 1 0 0 0 0 0 0 0 0 0 0 1 0 0 0 1\n",
      "  1 0 0 1 0 0 1 0 0 1 0 1 0 0 0 0 0 1 0 0 0 0 1 1 0]]\n"
     ]
    }
   ],
   "source": [
    "from sklearn.preprocessing import MultiLabelBinarizer\n",
    "\n",
    "mlb = MultiLabelBinarizer()\n",
    "labels_encoded = mlb.fit_transform(filtered_data['labels'])\n",
    "print(\"ตัวอย่าง label ที่ถูกเข้ารหัส:\")\n",
    "print(labels_encoded[:5])  # แสดงตัวอย่าง 5 label ที่ถูกเข้ารหัส\n"
   ]
  },
  {
   "cell_type": "code",
   "execution_count": 25,
   "metadata": {},
   "outputs": [
    {
     "name": "stdout",
     "output_type": "stream",
     "text": [
      "ขนาดของชุดฝึก: (17640, 500), ขนาดของชุดทดสอบ: (4411, 500)\n"
     ]
    }
   ],
   "source": [
    "from sklearn.model_selection import train_test_split\n",
    "\n",
    "X_train, X_test, y_train, y_test = train_test_split(padded_sequences, labels_encoded, test_size=0.2, random_state=42)\n",
    "print(f\"ขนาดของชุดฝึก: {X_train.shape}, ขนาดของชุดทดสอบ: {X_test.shape}\")\n"
   ]
  },
  {
   "cell_type": "code",
   "execution_count": 26,
   "metadata": {},
   "outputs": [
    {
     "name": "stdout",
     "output_type": "stream",
     "text": [
      "Epoch 1/5\n"
     ]
    },
    {
     "name": "stderr",
     "output_type": "stream",
     "text": [
      "2024-10-08 23:08:52.110703: W tensorflow/tsl/platform/profile_utils/cpu_utils.cc:128] Failed to get CPU frequency: 0 Hz\n"
     ]
    },
    {
     "name": "stdout",
     "output_type": "stream",
     "text": [
      "441/441 [==============================] - 15s 34ms/step - loss: 0.1640 - accuracy: 0.0000e+00 - val_loss: 0.1282 - val_accuracy: 0.0000e+00\n",
      "Epoch 2/5\n",
      "441/441 [==============================] - 14s 33ms/step - loss: 0.0888 - accuracy: 0.0089 - val_loss: 0.1223 - val_accuracy: 0.0136\n",
      "Epoch 3/5\n",
      "441/441 [==============================] - 15s 35ms/step - loss: 0.0416 - accuracy: 0.0094 - val_loss: 0.1537 - val_accuracy: 0.0215\n",
      "Epoch 4/5\n",
      "441/441 [==============================] - 17s 39ms/step - loss: 0.0265 - accuracy: 0.0223 - val_loss: 0.1685 - val_accuracy: 0.0445\n",
      "Epoch 5/5\n",
      "441/441 [==============================] - 15s 34ms/step - loss: 0.0199 - accuracy: 0.0330 - val_loss: 0.1900 - val_accuracy: 0.0349\n"
     ]
    },
    {
     "data": {
      "text/plain": [
       "<keras.callbacks.History at 0x325521ff0>"
      ]
     },
     "execution_count": 26,
     "metadata": {},
     "output_type": "execute_result"
    }
   ],
   "source": [
    "from keras.models import Sequential\n",
    "from keras.layers import Embedding, Conv1D, MaxPooling1D, Flatten, Dense\n",
    "\n",
    "model = Sequential()\n",
    "model.add(Embedding(input_dim=len(tokenizer.word_index)+1, output_dim=128, input_length=max_len))\n",
    "model.add(Conv1D(filters=64, kernel_size=5, activation='relu'))\n",
    "model.add(MaxPooling1D(pool_size=2))\n",
    "model.add(Flatten())\n",
    "model.add(Dense(64, activation='relu'))\n",
    "model.add(Dense(len(mlb.classes_), activation='sigmoid'))  # sigmoid สำหรับ multi-label classification\n",
    "\n",
    "model.compile(loss='binary_crossentropy', optimizer='adam', metrics=['accuracy'])\n",
    "model.fit(X_train, y_train, epochs=5, batch_size=32, validation_split=0.2)\n"
   ]
  },
  {
   "cell_type": "code",
   "execution_count": 22,
   "metadata": {},
   "outputs": [],
   "source": [
    "model.compile(optimizer='adam', loss='binary_crossentropy', metrics=['accuracy'])\n"
   ]
  },
  {
   "cell_type": "code",
   "execution_count": null,
   "metadata": {},
   "outputs": [],
   "source": [
    "history = model.fit(X_train, y_train, epochs=10, batch_size=32, validation_data=(X_test, y_test))\n"
   ]
  },
  {
   "cell_type": "code",
   "execution_count": 27,
   "metadata": {},
   "outputs": [
    {
     "name": "stdout",
     "output_type": "stream",
     "text": [
      "138/138 [==============================] - 1s 7ms/step\n"
     ]
    }
   ],
   "source": [
    "y_pred = model.predict(X_test)\n",
    "y_pred_classes = (y_pred > 0.5).astype(int)  # แปลงค่าความน่าจะเป็นเป็น 0 หรือ 1"
   ]
  },
  {
   "cell_type": "code",
   "execution_count": 29,
   "metadata": {},
   "outputs": [
    {
     "name": "stdout",
     "output_type": "stream",
     "text": [
      "Macro Accuracy: 0.6769440036272953\n",
      "              precision    recall  f1-score   support\n",
      "\n",
      "                   0.94      0.97      0.95      4034\n",
      "           '       1.00      1.00      1.00      4411\n",
      "           ,       0.94      0.96      0.95      4034\n",
      "           -       0.00      0.00      0.00         7\n",
      "           .       0.00      0.00      0.00         8\n",
      "           2       0.00      0.00      0.00         7\n",
      "           3       0.00      0.00      0.00         7\n",
      "           5       0.00      0.00      0.00         7\n",
      "           [       1.00      1.00      1.00      4411\n",
      "           ]       1.00      1.00      1.00      4411\n",
      "           ก       0.84      0.93      0.88      3026\n",
      "           ข       0.93      0.98      0.95      4051\n",
      "           ค       0.56      0.27      0.37       463\n",
      "           ง       0.92      0.95      0.93      3918\n",
      "           จ       0.80      0.67      0.73       109\n",
      "           ช       0.79      0.58      0.67       133\n",
      "           ญ       0.00      0.00      0.00         4\n",
      "           ฐ       0.73      0.64      0.68        80\n",
      "           ฒ       0.00      0.00      0.00        10\n",
      "           ณ       0.86      0.67      0.75       108\n",
      "           ด       0.85      0.66      0.74      1050\n",
      "           ต       0.67      0.28      0.39       288\n",
      "           ถ       0.83      0.72      0.77        87\n",
      "           ท       0.44      0.18      0.26       405\n",
      "           ธ       0.00      0.00      0.00        29\n",
      "           น       0.64      0.41      0.50       256\n",
      "           บ       0.46      0.14      0.22       368\n",
      "           ป       0.71      0.46      0.56       190\n",
      "           ผ       0.00      0.00      0.00         4\n",
      "           พ       0.86      0.55      0.67       123\n",
      "           ภ       0.80      0.64      0.72       107\n",
      "           ม       0.96      0.93      0.94      4174\n",
      "           ย       0.08      0.02      0.04        42\n",
      "           ร       0.85      0.94      0.89      3077\n",
      "           ฤ       0.00      0.00      0.00         7\n",
      "           ล       0.93      0.67      0.78       857\n",
      "           ว       1.00      1.00      1.00      4400\n",
      "           ศ       0.62      0.37      0.46       151\n",
      "           ษ       0.75      0.75      0.75       104\n",
      "           ส       0.88      0.62      0.72      1069\n",
      "           ห       0.87      0.67      0.76       102\n",
      "           ฬ       0.00      0.00      0.00         2\n",
      "           อ       0.91      0.91      0.91      3772\n",
      "           ะ       0.67      0.35      0.46       179\n",
      "           ั       0.83      0.52      0.64       124\n",
      "           า       1.00      1.00      1.00      4411\n",
      "           ำ       0.86      0.59      0.70        96\n",
      "           ิ       0.91      0.70      0.79       963\n",
      "           ี       0.65      0.29      0.40       232\n",
      "           ื       0.82      0.92      0.87      2922\n",
      "           ุ       0.80      0.50      0.62       129\n",
      "           ู       0.00      0.00      0.00         4\n",
      "           เ       0.86      0.96      0.91      3170\n",
      "           แ       0.89      0.73      0.80       945\n",
      "           โ       1.00      0.05      0.10        19\n",
      "           ใ       0.23      0.02      0.04       124\n",
      "           ไ       0.00      0.00      0.00        10\n",
      "           ็       0.00      0.00      0.00         4\n",
      "           ่       0.94      0.99      0.96      4093\n",
      "           ้       0.91      0.62      0.74       961\n",
      "           ์       0.81      0.65      0.73       101\n",
      "\n",
      "   micro avg       0.93      0.91      0.92     72390\n",
      "   macro avg       0.62      0.50      0.54     72390\n",
      "weighted avg       0.92      0.91      0.91     72390\n",
      " samples avg       0.92      0.91      0.91     72390\n",
      "\n"
     ]
    },
    {
     "name": "stderr",
     "output_type": "stream",
     "text": [
      "/opt/anaconda3/envs/nlp/lib/python3.10/site-packages/sklearn/metrics/_classification.py:1531: UndefinedMetricWarning: Precision is ill-defined and being set to 0.0 in labels with no predicted samples. Use `zero_division` parameter to control this behavior.\n",
      "  _warn_prf(average, modifier, f\"{metric.capitalize()} is\", len(result))\n"
     ]
    }
   ],
   "source": [
    "from sklearn.metrics import classification_report, accuracy_score\n",
    "\n",
    "macro_accuracy = accuracy_score(y_test, y_pred_classes)\n",
    "print(f'Macro Accuracy: {macro_accuracy}')\n",
    "print(classification_report(y_test, y_pred_classes, target_names=mlb.classes_))\n"
   ]
  },
  {
   "cell_type": "code",
   "execution_count": null,
   "metadata": {},
   "outputs": [],
   "source": [
    "def predict_new_text(new_text):\n",
    "    tokenized_text = ' '.join(word_tokenize(new_text, engine='newmm'))\n",
    "    cleaned_text = clean_text(tokenized_text)  # ใช้ฟังก์ชันทำความสะอาด\n",
    "    sequence = tokenizer.texts_to_sequences([cleaned_text])  # แปลงเป็นลำดับตัวเลข\n",
    "    padded_sequence = pad_sequences(sequence, maxlen=max_len)  # ทำ padding\n",
    "    prediction = model.predict(padded_sequence)  # ทำนาย\n",
    "    predicted_classes = (prediction > 0.5).astype(int)  # เปลี่ยนค่าความน่าจะเป็นเป็น 0 หรือ 1\n",
    "    return mlb.inverse_transform(predicted_classes)  # คืนค่าชื่อ label\n",
    "\n",
    "# ตัวอย่างการใช้งาน\n",
    "new_text = \"ประยุทธ์\"\n",
    "print(predict_new_text(new_text))"
   ]
  }
 ],
 "metadata": {
  "kernelspec": {
   "display_name": "nlp",
   "language": "python",
   "name": "python3"
  },
  "language_info": {
   "codemirror_mode": {
    "name": "ipython",
    "version": 3
   },
   "file_extension": ".py",
   "mimetype": "text/x-python",
   "name": "python",
   "nbconvert_exporter": "python",
   "pygments_lexer": "ipython3",
   "version": "3.10.13"
  }
 },
 "nbformat": 4,
 "nbformat_minor": 2
}
