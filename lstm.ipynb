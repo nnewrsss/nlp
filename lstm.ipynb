{
 "cells": [
  {
   "cell_type": "code",
   "execution_count": 2,
   "metadata": {},
   "outputs": [],
   "source": [
    "import pandas as pd\n",
    "from sklearn.model_selection import train_test_split\n",
    "from sklearn.preprocessing import LabelEncoder\n",
    "from pythainlp.tokenize import word_tokenize\n",
    "from pythainlp.corpus import thai_stopwords\n",
    "from tensorflow.keras.preprocessing.text import Tokenizer\n",
    "from tensorflow.keras.preprocessing.sequence import pad_sequences\n",
    "from tensorflow.keras.models import Sequential\n",
    "from tensorflow.keras.layers import Embedding, LSTM, Dense\n",
    "from sklearn.metrics import classification_report\n",
    "import re\n",
    "from collections import Counter"
   ]
  },
  {
   "cell_type": "code",
   "execution_count": 3,
   "metadata": {},
   "outputs": [
    {
     "data": {
      "text/html": [
       "<div>\n",
       "<style scoped>\n",
       "    .dataframe tbody tr th:only-of-type {\n",
       "        vertical-align: middle;\n",
       "    }\n",
       "\n",
       "    .dataframe tbody tr th {\n",
       "        vertical-align: top;\n",
       "    }\n",
       "\n",
       "    .dataframe thead th {\n",
       "        text-align: right;\n",
       "    }\n",
       "</style>\n",
       "<table border=\"1\" class=\"dataframe\">\n",
       "  <thead>\n",
       "    <tr style=\"text-align: right;\">\n",
       "      <th></th>\n",
       "      <th>url</th>\n",
       "      <th>date</th>\n",
       "      <th>title</th>\n",
       "      <th>body_text</th>\n",
       "      <th>labels</th>\n",
       "    </tr>\n",
       "  </thead>\n",
       "  <tbody>\n",
       "    <tr>\n",
       "      <th>0</th>\n",
       "      <td>https://prachatai.com/print/42</td>\n",
       "      <td>2004-08-24 14:31</td>\n",
       "      <td>นักวิจัยหนุน  \"แม้ว\"  เปิด  \"จีเอ็มโอ\"</td>\n",
       "      <td>ประชาไท --- 23 ส.ค.2547  นักวิจัยฯ ชี้นโยบายจี...</td>\n",
       "      <td>['ข่าว', 'สิ่งแวดล้อม']</td>\n",
       "    </tr>\n",
       "    <tr>\n",
       "      <th>1</th>\n",
       "      <td>https://prachatai.com/print/41</td>\n",
       "      <td>2004-08-24 14:22</td>\n",
       "      <td>ภาคประชาชนต้านเปิดเสรีจีเอ็มโอ</td>\n",
       "      <td>ประชาไท- 23 ส.ค.2547   นักวิชาการ ภาคประชาชน จ...</td>\n",
       "      <td>['ข่าว', 'สิ่งแวดล้อม']</td>\n",
       "    </tr>\n",
       "    <tr>\n",
       "      <th>2</th>\n",
       "      <td>https://prachatai.com/print/43</td>\n",
       "      <td>2004-08-24 15:17</td>\n",
       "      <td>จุฬาฯ ห่วงจีเอ็มโอลามข้าวไทย</td>\n",
       "      <td>นโยบายที่อนุญาตให้ปลูกร่วมกับพืชอื่นได้นั้นถื...</td>\n",
       "      <td>['ข่าว', 'สิ่งแวดล้อม']</td>\n",
       "    </tr>\n",
       "    <tr>\n",
       "      <th>3</th>\n",
       "      <td>https://prachatai.com/print/45</td>\n",
       "      <td>2004-08-24 15:58</td>\n",
       "      <td>ฟองสบู่การเมืองแตก ทักษิณหมดกึ๋น ชนชั้นกลางหมด...</td>\n",
       "      <td>ประชาไท -- 23 ส.ค. 47  ขาประจำทักษิณ ฟันธง ฟอง...</td>\n",
       "      <td>['ข่าว', 'การเมือง', 'คณะเศรษฐศาสตร์ มหาวิทยาล...</td>\n",
       "    </tr>\n",
       "    <tr>\n",
       "      <th>4</th>\n",
       "      <td>https://prachatai.com/print/47</td>\n",
       "      <td>2004-08-24 16:10</td>\n",
       "      <td>กอต.เสนอเลิกถนนคลองลาน-อุ้มผาง</td>\n",
       "      <td>ประชาไท-23 ส.ค.47  คณะกรรมการอนุรักษ์ ผืนป่าตะ...</td>\n",
       "      <td>['ข่าว', 'สิ่งแวดล้อม']</td>\n",
       "    </tr>\n",
       "  </tbody>\n",
       "</table>\n",
       "</div>"
      ],
      "text/plain": [
       "                              url              date  \\\n",
       "0  https://prachatai.com/print/42  2004-08-24 14:31   \n",
       "1  https://prachatai.com/print/41  2004-08-24 14:22   \n",
       "2  https://prachatai.com/print/43  2004-08-24 15:17   \n",
       "3  https://prachatai.com/print/45  2004-08-24 15:58   \n",
       "4  https://prachatai.com/print/47  2004-08-24 16:10   \n",
       "\n",
       "                                               title  \\\n",
       "0             นักวิจัยหนุน  \"แม้ว\"  เปิด  \"จีเอ็มโอ\"   \n",
       "1                     ภาคประชาชนต้านเปิดเสรีจีเอ็มโอ   \n",
       "2                       จุฬาฯ ห่วงจีเอ็มโอลามข้าวไทย   \n",
       "3  ฟองสบู่การเมืองแตก ทักษิณหมดกึ๋น ชนชั้นกลางหมด...   \n",
       "4                     กอต.เสนอเลิกถนนคลองลาน-อุ้มผาง   \n",
       "\n",
       "                                           body_text  \\\n",
       "0  ประชาไท --- 23 ส.ค.2547  นักวิจัยฯ ชี้นโยบายจี...   \n",
       "1  ประชาไท- 23 ส.ค.2547   นักวิชาการ ภาคประชาชน จ...   \n",
       "2   นโยบายที่อนุญาตให้ปลูกร่วมกับพืชอื่นได้นั้นถื...   \n",
       "3  ประชาไท -- 23 ส.ค. 47  ขาประจำทักษิณ ฟันธง ฟอง...   \n",
       "4  ประชาไท-23 ส.ค.47  คณะกรรมการอนุรักษ์ ผืนป่าตะ...   \n",
       "\n",
       "                                              labels  \n",
       "0                            ['ข่าว', 'สิ่งแวดล้อม']  \n",
       "1                            ['ข่าว', 'สิ่งแวดล้อม']  \n",
       "2                            ['ข่าว', 'สิ่งแวดล้อม']  \n",
       "3  ['ข่าว', 'การเมือง', 'คณะเศรษฐศาสตร์ มหาวิทยาล...  \n",
       "4                            ['ข่าว', 'สิ่งแวดล้อม']  "
      ]
     },
     "execution_count": 3,
     "metadata": {},
     "output_type": "execute_result"
    }
   ],
   "source": [
    "data_df = pd.read_csv('dataset\\prachathai-67k.csv' )\n",
    "data_df.head()"
   ]
  },
  {
   "cell_type": "code",
   "execution_count": 4,
   "metadata": {},
   "outputs": [
    {
     "data": {
      "text/html": [
       "<div>\n",
       "<style scoped>\n",
       "    .dataframe tbody tr th:only-of-type {\n",
       "        vertical-align: middle;\n",
       "    }\n",
       "\n",
       "    .dataframe tbody tr th {\n",
       "        vertical-align: top;\n",
       "    }\n",
       "\n",
       "    .dataframe thead th {\n",
       "        text-align: right;\n",
       "    }\n",
       "</style>\n",
       "<table border=\"1\" class=\"dataframe\">\n",
       "  <thead>\n",
       "    <tr style=\"text-align: right;\">\n",
       "      <th></th>\n",
       "      <th>labels</th>\n",
       "      <th>combined_text</th>\n",
       "    </tr>\n",
       "  </thead>\n",
       "  <tbody>\n",
       "    <tr>\n",
       "      <th>0</th>\n",
       "      <td>['ข่าว', 'สิ่งแวดล้อม']</td>\n",
       "      <td>นักวิจัยหนุน  \"แม้ว\"  เปิด  \"จีเอ็มโอ\" ประชาไท...</td>\n",
       "    </tr>\n",
       "    <tr>\n",
       "      <th>1</th>\n",
       "      <td>['ข่าว', 'สิ่งแวดล้อม']</td>\n",
       "      <td>ภาคประชาชนต้านเปิดเสรีจีเอ็มโอ ประชาไท- 23 ส.ค...</td>\n",
       "    </tr>\n",
       "    <tr>\n",
       "      <th>2</th>\n",
       "      <td>['ข่าว', 'สิ่งแวดล้อม']</td>\n",
       "      <td>จุฬาฯ ห่วงจีเอ็มโอลามข้าวไทย  นโยบายที่อนุญาตใ...</td>\n",
       "    </tr>\n",
       "    <tr>\n",
       "      <th>3</th>\n",
       "      <td>['ข่าว', 'การเมือง', 'คณะเศรษฐศาสตร์ มหาวิทยาล...</td>\n",
       "      <td>ฟองสบู่การเมืองแตก ทักษิณหมดกึ๋น ชนชั้นกลางหมด...</td>\n",
       "    </tr>\n",
       "    <tr>\n",
       "      <th>4</th>\n",
       "      <td>['ข่าว', 'สิ่งแวดล้อม']</td>\n",
       "      <td>กอต.เสนอเลิกถนนคลองลาน-อุ้มผาง ประชาไท-23 ส.ค....</td>\n",
       "    </tr>\n",
       "  </tbody>\n",
       "</table>\n",
       "</div>"
      ],
      "text/plain": [
       "                                              labels  \\\n",
       "0                            ['ข่าว', 'สิ่งแวดล้อม']   \n",
       "1                            ['ข่าว', 'สิ่งแวดล้อม']   \n",
       "2                            ['ข่าว', 'สิ่งแวดล้อม']   \n",
       "3  ['ข่าว', 'การเมือง', 'คณะเศรษฐศาสตร์ มหาวิทยาล...   \n",
       "4                            ['ข่าว', 'สิ่งแวดล้อม']   \n",
       "\n",
       "                                       combined_text  \n",
       "0  นักวิจัยหนุน  \"แม้ว\"  เปิด  \"จีเอ็มโอ\" ประชาไท...  \n",
       "1  ภาคประชาชนต้านเปิดเสรีจีเอ็มโอ ประชาไท- 23 ส.ค...  \n",
       "2  จุฬาฯ ห่วงจีเอ็มโอลามข้าวไทย  นโยบายที่อนุญาตใ...  \n",
       "3  ฟองสบู่การเมืองแตก ทักษิณหมดกึ๋น ชนชั้นกลางหมด...  \n",
       "4  กอต.เสนอเลิกถนนคลองลาน-อุ้มผาง ประชาไท-23 ส.ค....  "
      ]
     },
     "execution_count": 4,
     "metadata": {},
     "output_type": "execute_result"
    }
   ],
   "source": [
    "data_df['combined_text'] = data_df['title'] + ' ' + data_df['body_text']\n",
    "data_df = data_df.drop(columns=['url', 'date', 'title', 'body_text'])\n",
    "data_df.head()"
   ]
  },
  {
   "cell_type": "code",
   "execution_count": 5,
   "metadata": {},
   "outputs": [
    {
     "data": {
      "text/plain": [
       "(67889, 2)"
      ]
     },
     "execution_count": 5,
     "metadata": {},
     "output_type": "execute_result"
    }
   ],
   "source": [
    "data_df.shape"
   ]
  },
  {
   "cell_type": "code",
   "execution_count": 6,
   "metadata": {},
   "outputs": [],
   "source": [
    "min_label_count = 10\n",
    "label_counts = data_df['labels'].value_counts()\n",
    "labels_to_keep = label_counts[label_counts >= min_label_count].index.tolist()\n",
    "filtered_data = data_df[data_df['labels'].isin(labels_to_keep)]"
   ]
  },
  {
   "cell_type": "code",
   "execution_count": 7,
   "metadata": {},
   "outputs": [
    {
     "data": {
      "text/plain": [
       "(22381, 2)"
      ]
     },
     "execution_count": 7,
     "metadata": {},
     "output_type": "execute_result"
    }
   ],
   "source": [
    "filtered_data.shape"
   ]
  },
  {
   "cell_type": "markdown",
   "metadata": {},
   "source": [
    "Tokenization by Pythai"
   ]
  },
  {
   "cell_type": "code",
   "execution_count": 8,
   "metadata": {},
   "outputs": [
    {
     "name": "stderr",
     "output_type": "stream",
     "text": [
      "C:\\Users\\Acer\\AppData\\Local\\Temp\\ipykernel_18176\\3974605809.py:1: SettingWithCopyWarning: \n",
      "A value is trying to be set on a copy of a slice from a DataFrame.\n",
      "Try using .loc[row_indexer,col_indexer] = value instead\n",
      "\n",
      "See the caveats in the documentation: https://pandas.pydata.org/pandas-docs/stable/user_guide/indexing.html#returning-a-view-versus-a-copy\n",
      "  filtered_data['tokenized_text'] = filtered_data['combined_text'].apply(lambda x: ' '.join(word_tokenize(x, engine='newmm')))\n"
     ]
    }
   ],
   "source": [
    "filtered_data['tokenized_text'] = filtered_data['combined_text'].apply(lambda x: ' '.join(word_tokenize(x, engine='newmm')))"
   ]
  },
  {
   "cell_type": "markdown",
   "metadata": {},
   "source": [
    "Stop word จ้า"
   ]
  },
  {
   "cell_type": "code",
   "execution_count": 9,
   "metadata": {},
   "outputs": [
    {
     "name": "stderr",
     "output_type": "stream",
     "text": [
      "C:\\Users\\Acer\\AppData\\Local\\Temp\\ipykernel_18176\\300057925.py:16: SettingWithCopyWarning: \n",
      "A value is trying to be set on a copy of a slice from a DataFrame.\n",
      "Try using .loc[row_indexer,col_indexer] = value instead\n",
      "\n",
      "See the caveats in the documentation: https://pandas.pydata.org/pandas-docs/stable/user_guide/indexing.html#returning-a-view-versus-a-copy\n",
      "  filtered_data['cleaned_text'] = filtered_data['tokenized_text'].apply(clean_text)\n"
     ]
    }
   ],
   "source": [
    "import re\n",
    "from pythainlp.corpus import thai_stopwords\n",
    "\n",
    "# กำหนด stop words ภาษาไทย\n",
    "stopwords = list(thai_stopwords())\n",
    "\n",
    "# ฟังก์ชันลบสัญลักษณ์พิเศษ, ตัวเลข และ stop words\n",
    "def clean_text(text):\n",
    "    # ลบสัญลักษณ์พิเศษและตัวเลขทั้งหมด\n",
    "    text = re.sub(r'[\\\"\\'\\(\\)\\-\\.!/,0-9]', '', text)\n",
    "    \n",
    "    # ลบ stop words\n",
    "    return ' '.join([word for word in text.split() if word not in stopwords])\n",
    "\n",
    "# ตัวอย่างการใช้งาน\n",
    "filtered_data['cleaned_text'] = filtered_data['tokenized_text'].apply(clean_text)"
   ]
  },
  {
   "cell_type": "code",
   "execution_count": 10,
   "metadata": {},
   "outputs": [
    {
     "data": {
      "text/html": [
       "<div>\n",
       "<style scoped>\n",
       "    .dataframe tbody tr th:only-of-type {\n",
       "        vertical-align: middle;\n",
       "    }\n",
       "\n",
       "    .dataframe tbody tr th {\n",
       "        vertical-align: top;\n",
       "    }\n",
       "\n",
       "    .dataframe thead th {\n",
       "        text-align: right;\n",
       "    }\n",
       "</style>\n",
       "<table border=\"1\" class=\"dataframe\">\n",
       "  <thead>\n",
       "    <tr style=\"text-align: right;\">\n",
       "      <th></th>\n",
       "      <th>labels</th>\n",
       "      <th>combined_text</th>\n",
       "      <th>tokenized_text</th>\n",
       "      <th>cleaned_text</th>\n",
       "    </tr>\n",
       "  </thead>\n",
       "  <tbody>\n",
       "    <tr>\n",
       "      <th>0</th>\n",
       "      <td>['ข่าว', 'สิ่งแวดล้อม']</td>\n",
       "      <td>นักวิจัยหนุน  \"แม้ว\"  เปิด  \"จีเอ็มโอ\" ประชาไท...</td>\n",
       "      <td>นักวิจัย หนุน    \" แม้ว \"    เปิด    \" จีเอ็มโ...</td>\n",
       "      <td>นักวิจัย หนุน แม้ว จีเอ็มโอ ประชา ไท สค นักวิจ...</td>\n",
       "    </tr>\n",
       "    <tr>\n",
       "      <th>1</th>\n",
       "      <td>['ข่าว', 'สิ่งแวดล้อม']</td>\n",
       "      <td>ภาคประชาชนต้านเปิดเสรีจีเอ็มโอ ประชาไท- 23 ส.ค...</td>\n",
       "      <td>ภาค ประชาชน ต้าน เปิด เสรี จีเอ็มโอ   ประชา ไท...</td>\n",
       "      <td>ประชาชน ต้าน เสรี จีเอ็มโอ ประชา ไท สค นักวิชา...</td>\n",
       "    </tr>\n",
       "    <tr>\n",
       "      <th>2</th>\n",
       "      <td>['ข่าว', 'สิ่งแวดล้อม']</td>\n",
       "      <td>จุฬาฯ ห่วงจีเอ็มโอลามข้าวไทย  นโยบายที่อนุญาตใ...</td>\n",
       "      <td>จุฬาฯ   ห่วง จีเอ็มโอ ลาม ข้าว ไทย    นโยบาย ท...</td>\n",
       "      <td>จุฬาฯ ห่วง จีเอ็มโอ ลาม ข้าว ไทย นโยบาย อนุญาต...</td>\n",
       "    </tr>\n",
       "    <tr>\n",
       "      <th>4</th>\n",
       "      <td>['ข่าว', 'สิ่งแวดล้อม']</td>\n",
       "      <td>กอต.เสนอเลิกถนนคลองลาน-อุ้มผาง ประชาไท-23 ส.ค....</td>\n",
       "      <td>กอ ต. เสนอ เลิก ถนน คลอง ลาน - อุ้มผาง   ประชา...</td>\n",
       "      <td>กอ ต เสนอ เลิก ถนน คลอง ลาน อุ้มผาง ประชา ไท ส...</td>\n",
       "    </tr>\n",
       "    <tr>\n",
       "      <th>5</th>\n",
       "      <td>['ข่าว', 'สิ่งแวดล้อม']</td>\n",
       "      <td>สำรวจเส้นทางอดีตถนนสายความมั่งคง คลองลาน - อุ้...</td>\n",
       "      <td>สำรวจ เส้นทาง อดีต ถนน สาย ความ มั่ง คง   คลอง...</td>\n",
       "      <td>สำรวจ เส้นทาง ถนน สาย มั่ง คลอง ลาน อุ้มผาง ภา...</td>\n",
       "    </tr>\n",
       "  </tbody>\n",
       "</table>\n",
       "</div>"
      ],
      "text/plain": [
       "                    labels                                      combined_text  \\\n",
       "0  ['ข่าว', 'สิ่งแวดล้อม']  นักวิจัยหนุน  \"แม้ว\"  เปิด  \"จีเอ็มโอ\" ประชาไท...   \n",
       "1  ['ข่าว', 'สิ่งแวดล้อม']  ภาคประชาชนต้านเปิดเสรีจีเอ็มโอ ประชาไท- 23 ส.ค...   \n",
       "2  ['ข่าว', 'สิ่งแวดล้อม']  จุฬาฯ ห่วงจีเอ็มโอลามข้าวไทย  นโยบายที่อนุญาตใ...   \n",
       "4  ['ข่าว', 'สิ่งแวดล้อม']  กอต.เสนอเลิกถนนคลองลาน-อุ้มผาง ประชาไท-23 ส.ค....   \n",
       "5  ['ข่าว', 'สิ่งแวดล้อม']  สำรวจเส้นทางอดีตถนนสายความมั่งคง คลองลาน - อุ้...   \n",
       "\n",
       "                                      tokenized_text  \\\n",
       "0  นักวิจัย หนุน    \" แม้ว \"    เปิด    \" จีเอ็มโ...   \n",
       "1  ภาค ประชาชน ต้าน เปิด เสรี จีเอ็มโอ   ประชา ไท...   \n",
       "2  จุฬาฯ   ห่วง จีเอ็มโอ ลาม ข้าว ไทย    นโยบาย ท...   \n",
       "4  กอ ต. เสนอ เลิก ถนน คลอง ลาน - อุ้มผาง   ประชา...   \n",
       "5  สำรวจ เส้นทาง อดีต ถนน สาย ความ มั่ง คง   คลอง...   \n",
       "\n",
       "                                        cleaned_text  \n",
       "0  นักวิจัย หนุน แม้ว จีเอ็มโอ ประชา ไท สค นักวิจ...  \n",
       "1  ประชาชน ต้าน เสรี จีเอ็มโอ ประชา ไท สค นักวิชา...  \n",
       "2  จุฬาฯ ห่วง จีเอ็มโอ ลาม ข้าว ไทย นโยบาย อนุญาต...  \n",
       "4  กอ ต เสนอ เลิก ถนน คลอง ลาน อุ้มผาง ประชา ไท ส...  \n",
       "5  สำรวจ เส้นทาง ถนน สาย มั่ง คลอง ลาน อุ้มผาง ภา...  "
      ]
     },
     "execution_count": 10,
     "metadata": {},
     "output_type": "execute_result"
    }
   ],
   "source": [
    "filtered_data.head()"
   ]
  },
  {
   "cell_type": "markdown",
   "metadata": {},
   "source": [
    "จะเห็น step by step ก่อนจะ train"
   ]
  },
  {
   "cell_type": "code",
   "execution_count": 35,
   "metadata": {},
   "outputs": [
    {
     "name": "stdout",
     "output_type": "stream",
     "text": [
      "'คน': 129463 ครั้ง\n",
      "'ไทย': 110235 ครั้ง\n",
      "'ประชาชน': 79855 ครั้ง\n",
      "'เรื่อง': 76078 ครั้ง\n",
      "'ปี': 73521 ครั้ง\n",
      "'ประเทศ': 69548 ครั้ง\n",
      "'รัฐบาล': 67816 ครั้ง\n",
      "'ทำ': 56276 ครั้ง\n",
      "'ที่จะ': 51267 ครั้ง\n",
      "'พื้นที่': 51217 ครั้ง\n",
      "'แรงงาน': 48839 ครั้ง\n",
      "'วันที่': 46071 ครั้ง\n",
      "'รัฐ': 42883 ครั้ง\n",
      "'จังหวัด': 42485 ครั้ง\n",
      "'สังคม': 39857 ครั้ง\n",
      "'ผม': 38711 ครั้ง\n",
      "'สร้าง': 37913 ครั้ง\n",
      "'สิทธิ': 34873 ครั้ง\n",
      "'ปัญหา': 34033 ครั้ง\n",
      "'บาท': 33689 ครั้ง\n"
     ]
    }
   ],
   "source": [
    "from collections import Counter\n",
    "\n",
    "# นำข้อความที่ผ่านการลบ stopwords มารวมกันทั้งหมดแล้วตัดคำแยกออก\n",
    "all_words = ' '.join(filtered_data['cleaned_text']).split()\n",
    "\n",
    "# นับจำนวนคำที่พบ\n",
    "word_counts = Counter(all_words)\n",
    "\n",
    "# จัดเรียงคำตามจำนวนการปรากฏมากไปน้อย\n",
    "sorted_word_counts = word_counts.most_common(20)\n",
    "\n",
    "# แสดง 20 คำที่ปรากฏบ่อยที่สุด\n",
    "for word, count in sorted_word_counts:\n",
    "    print(f\"'{word}': {count} ครั้ง\")"
   ]
  },
  {
   "cell_type": "markdown",
   "metadata": {},
   "source": [
    "ขั้นตอนการเตรียม train model"
   ]
  },
  {
   "cell_type": "code",
   "execution_count": 90,
   "metadata": {},
   "outputs": [],
   "source": [
    "max_words = 10000  # จำนวนคำสูงสุดที่จะแปลง\n",
    "tokenizer = Tokenizer(num_words=max_words)\n",
    "tokenizer.fit_on_texts(filtered_data['cleaned_text'])\n",
    "sequences = tokenizer.texts_to_sequences(filtered_data['cleaned_text'])\n"
   ]
  },
  {
   "cell_type": "code",
   "execution_count": 103,
   "metadata": {},
   "outputs": [],
   "source": [
    "max_len = 500  # ความยาวสูงสุดของข้อความ\n",
    "data = pad_sequences(sequences, maxlen=max_len)"
   ]
  },
  {
   "cell_type": "code",
   "execution_count": 104,
   "metadata": {},
   "outputs": [
    {
     "name": "stdout",
     "output_type": "stream",
     "text": [
      "['กวีประชาไท' 'การชุมนุมเดือนมีนาคม - พฤษภาคม 2553' 'การเมือง'\n",
      " 'ขีดเส้นใต้' 'ข่าว' 'ข้อเรียกร้องเปลี่ยนแปลงสภาพการจ้าง' 'คนเสื้อแดง'\n",
      " 'คุณภาพชีวิต' 'ตลาดแรงงาน' 'ต่างประเทศ' 'ธนาคารกรุงเทพ' 'ธุลีดาวหาง'\n",
      " 'นักปรัชญาชายขอบ' 'บทความ' 'บริษัท จอร์จี้ แอนด์ ลู จำกัด' 'ประกันสังคม'\n",
      " 'ประยุทธ์ จันทร์โอชา' 'พนักงานธนาคาร' 'รอบโลกแรงงาน'\n",
      " 'รายการคืนความสุขให้คนในชาติ' 'รายงานพิเศษ' 'วัฒนธรรม' 'ว่างงาน'\n",
      " 'สถานการณ์แรงงานประจำสัปดาห์' 'สปสช.' 'สหภาพแรงงานธนาคารกรุงเทพ'\n",
      " 'สหภาพแรงงานอุตสาหกรรมสิ่งทอและตัดเย็บเสื้อผ้าสัมพันธ์' 'สังคม'\n",
      " 'สันกำแพง' 'สิทธิมนุษยชน' 'สิ่งแวดล้อม' 'สุขภาพ' 'สุขุมพจน์ คำสุขุม'\n",
      " 'เชียงใหม่' 'เลิกจ้าง' 'เวฬุ เวสารัช' 'เศรษฐกิจ' 'แรงงาน']\n"
     ]
    }
   ],
   "source": [
    "# label_encoder = LabelEncoder()\n",
    "# encoded_labels = label_encoder.fit_transform(filtered_data['labels'])\n",
    "\n",
    "from sklearn.preprocessing import MultiLabelBinarizer\n",
    "\n",
    "# แปลงป้ายกำกับจากลิสต์ให้เป็นฟอร์แมตหลายร้อน (multi-hot encoded)\n",
    "mlb = MultiLabelBinarizer()\n",
    "encoded_labels = mlb.fit_transform(filtered_data['labels'])\n",
    "\n",
    "print(mlb.classes_)\n"
   ]
  },
  {
   "cell_type": "code",
   "execution_count": 106,
   "metadata": {},
   "outputs": [],
   "source": [
    "X_train, X_test, y_train, y_test = train_test_split(data, encoded_labels, test_size=0.2, random_state=42)\n"
   ]
  },
  {
   "cell_type": "markdown",
   "metadata": {},
   "source": [
    "เริ่ทขั้นตอนทำ LSTM"
   ]
  },
  {
   "cell_type": "code",
   "execution_count": 107,
   "metadata": {},
   "outputs": [],
   "source": [
    "# model = Sequential()\n",
    "# model.add(Embedding(input_dim=max_words, output_dim=128, input_length=max_len))\n",
    "# model.add(LSTM(128, return_sequences=False))  # LSTM layer แทน CNN\n",
    "\n",
    "# model.add(Dense(128, activation='relu'))\n",
    "# model.add(Dense(len(label_encoder.classes_), activation='softmax'))\n",
    "\n",
    "\n",
    "# model = Sequential()\n",
    "# model.add(Embedding(input_dim=max_words, output_dim=128, input_length=max_len))\n",
    "# model.add(LSTM(128, return_sequences=False))\n",
    "# model.add(Dense(128, activation='relu'))\n",
    "# model.add(Dense(len(mlb.classes_), activation='sigmoid'))  # ใช้ sigmoid สำหรับหลายป้ายกำกับ\n",
    "\n",
    "\n",
    "model = Sequential()\n",
    "model.add(Embedding(input_dim=max_words, output_dim=128, input_length=max_len))\n",
    "model.add(LSTM(128, return_sequences=False))\n",
    "model.add(Dense(128, activation='relu'))\n",
    "model.add(Dense(len(mlb.classes_), activation='sigmoid'))  # ใช้ sigmoid สำหรับหลายป้ายกำกับ\n",
    "\n"
   ]
  },
  {
   "cell_type": "code",
   "execution_count": 108,
   "metadata": {},
   "outputs": [],
   "source": [
    "# model.compile(optimizer='adam', loss='sparse_categorical_crossentropy', metrics=['accuracy'])\n",
    "from tensorflow.keras.metrics import BinaryAccuracy, Precision, Recall\n",
    "\n",
    "model.compile(optimizer='adam', loss='binary_crossentropy', metrics=[BinaryAccuracy(), Precision(), Recall()])\n"
   ]
  },
  {
   "cell_type": "code",
   "execution_count": 109,
   "metadata": {},
   "outputs": [],
   "source": [
    "X_train, X_test, y_train, y_test = train_test_split(data, encoded_labels, test_size=0.2, random_state=42)\n"
   ]
  },
  {
   "cell_type": "code",
   "execution_count": 114,
   "metadata": {},
   "outputs": [
    {
     "name": "stdout",
     "output_type": "stream",
     "text": [
      "Epoch 1/10\n",
      "560/560 [==============================] - 29s 52ms/step - loss: 0.0098 - binary_accuracy: 0.9965 - precision_10: 0.9691 - recall_10: 0.9633 - val_loss: 0.0801 - val_binary_accuracy: 0.9818 - val_precision_10: 0.8399 - val_recall_10: 0.8101\n",
      "Epoch 2/10\n",
      "560/560 [==============================] - 32s 57ms/step - loss: 0.0084 - binary_accuracy: 0.9970 - precision_10: 0.9735 - recall_10: 0.9691 - val_loss: 0.0901 - val_binary_accuracy: 0.9816 - val_precision_10: 0.8364 - val_recall_10: 0.8094\n",
      "Epoch 3/10\n",
      "560/560 [==============================] - 31s 56ms/step - loss: 0.0069 - binary_accuracy: 0.9975 - precision_10: 0.9769 - recall_10: 0.9744 - val_loss: 0.0974 - val_binary_accuracy: 0.9821 - val_precision_10: 0.8505 - val_recall_10: 0.8033\n",
      "Epoch 4/10\n",
      "560/560 [==============================] - 33s 59ms/step - loss: 0.0061 - binary_accuracy: 0.9977 - precision_10: 0.9790 - recall_10: 0.9774 - val_loss: 0.0949 - val_binary_accuracy: 0.9817 - val_precision_10: 0.8385 - val_recall_10: 0.8094\n",
      "Epoch 5/10\n",
      "560/560 [==============================] - 33s 58ms/step - loss: 0.0056 - binary_accuracy: 0.9978 - precision_10: 0.9799 - recall_10: 0.9787 - val_loss: 0.1024 - val_binary_accuracy: 0.9817 - val_precision_10: 0.8468 - val_recall_10: 0.7981\n",
      "Epoch 6/10\n",
      "560/560 [==============================] - 31s 56ms/step - loss: 0.0050 - binary_accuracy: 0.9980 - precision_10: 0.9814 - recall_10: 0.9808 - val_loss: 0.1095 - val_binary_accuracy: 0.9811 - val_precision_10: 0.8319 - val_recall_10: 0.8052\n",
      "Epoch 7/10\n",
      "560/560 [==============================] - 33s 59ms/step - loss: 0.0045 - binary_accuracy: 0.9981 - precision_10: 0.9822 - recall_10: 0.9815 - val_loss: 0.1105 - val_binary_accuracy: 0.9819 - val_precision_10: 0.8436 - val_recall_10: 0.8081\n",
      "Epoch 8/10\n",
      "560/560 [==============================] - 32s 56ms/step - loss: 0.0042 - binary_accuracy: 0.9982 - precision_10: 0.9828 - recall_10: 0.9827 - val_loss: 0.1149 - val_binary_accuracy: 0.9814 - val_precision_10: 0.8432 - val_recall_10: 0.7964\n",
      "Epoch 9/10\n",
      "560/560 [==============================] - 32s 57ms/step - loss: 0.0037 - binary_accuracy: 0.9983 - precision_10: 0.9841 - recall_10: 0.9843 - val_loss: 0.1280 - val_binary_accuracy: 0.9821 - val_precision_10: 0.8432 - val_recall_10: 0.8114\n",
      "Epoch 10/10\n",
      "560/560 [==============================] - 31s 56ms/step - loss: 0.0035 - binary_accuracy: 0.9985 - precision_10: 0.9852 - recall_10: 0.9852 - val_loss: 0.1216 - val_binary_accuracy: 0.9826 - val_precision_10: 0.8418 - val_recall_10: 0.8256\n"
     ]
    }
   ],
   "source": [
    "# history = model.fit(X_train, y_train, epochs=10, batch_size=32, validation_data=(X_test, y_test))\n",
    "history = model.fit(X_train, y_train, epochs=10, batch_size=32, validation_data=(X_test, y_test))\n"
   ]
  },
  {
   "cell_type": "code",
   "execution_count": 115,
   "metadata": {},
   "outputs": [
    {
     "name": "stdout",
     "output_type": "stream",
     "text": [
      "140/140 [==============================] - 3s 19ms/step\n"
     ]
    }
   ],
   "source": [
    "# y_pred_probs = model.predict(X_test)\n",
    "# y_pred = y_pred_probs.argmax(axis=-1)\n",
    "\n",
    "# # ทำนายความน่าจะเป็นและทำการแปลงเป็นค่าไบนารี\n",
    "y_pred_probs = model.predict(X_test)\n",
    "y_pred = (y_pred_probs > 0.5).astype(int)"
   ]
  },
  {
   "cell_type": "code",
   "execution_count": 116,
   "metadata": {},
   "outputs": [
    {
     "name": "stdout",
     "output_type": "stream",
     "text": [
      "                                                       precision    recall  f1-score   support\n",
      "\n",
      "                                           กวีประชาไท       0.67      0.20      0.31        10\n",
      "                  การชุมนุมเดือนมีนาคม - พฤษภาคม 2553       0.00      0.00      0.00         1\n",
      "                                             การเมือง       0.80      0.85      0.82      2859\n",
      "                                           ขีดเส้นใต้       0.19      0.09      0.12       140\n",
      "                                                 ข่าว       0.92      0.96      0.94      4041\n",
      "                   ข้อเรียกร้องเปลี่ยนแปลงสภาพการจ้าง       1.00      1.00      1.00         3\n",
      "                                           คนเสื้อแดง       0.00      0.00      0.00         4\n",
      "                                          คุณภาพชีวิต       0.91      0.61      0.73       114\n",
      "                                           ตลาดแรงงาน       1.00      0.33      0.50         3\n",
      "                                           ต่างประเทศ       0.22      0.25      0.24        67\n",
      "                                        ธนาคารกรุงเทพ       1.00      1.00      1.00         3\n",
      "                                           ธุลีดาวหาง       0.00      0.00      0.00         6\n",
      "                                      นักปรัชญาชายขอบ       0.00      0.00      0.00         5\n",
      "                                               บทความ       0.36      0.22      0.27       350\n",
      "                        บริษัท จอร์จี้ แอนด์ ลู จำกัด       0.00      0.00      0.00         4\n",
      "                                          ประกันสังคม       1.00      0.33      0.50         3\n",
      "                                  ประยุทธ์ จันทร์โอชา       0.75      0.43      0.55         7\n",
      "                                        พนักงานธนาคาร       1.00      1.00      1.00         3\n",
      "                                         รอบโลกแรงงาน       1.00      0.55      0.71        20\n",
      "                          รายการคืนความสุขให้คนในชาติ       0.75      0.43      0.55         7\n",
      "                                          รายงานพิเศษ       0.53      0.30      0.38        33\n",
      "                                             วัฒนธรรม       0.67      0.20      0.31        10\n",
      "                                              ว่างงาน       1.00      0.33      0.50         3\n",
      "                          สถานการณ์แรงงานประจำสัปดาห์       0.88      0.63      0.73        89\n",
      "                                                สปสช.       1.00      0.27      0.43        11\n",
      "                             สหภาพแรงงานธนาคารกรุงเทพ       1.00      1.00      1.00         3\n",
      "สหภาพแรงงานอุตสาหกรรมสิ่งทอและตัดเย็บเสื้อผ้าสัมพันธ์       0.00      0.00      0.00         4\n",
      "                                                สังคม       0.98      0.57      0.72       106\n",
      "                                             สันกำแพง       0.00      0.00      0.00         4\n",
      "                                         สิทธิมนุษยชน       0.00      0.00      0.00         7\n",
      "                                          สิ่งแวดล้อม       0.83      0.75      0.78       855\n",
      "                                               สุขภาพ       1.00      0.43      0.60         7\n",
      "                                    สุขุมพจน์ คำสุขุม       0.00      0.00      0.00         2\n",
      "                                            เชียงใหม่       0.00      0.00      0.00         4\n",
      "                                             เลิกจ้าง       1.00      0.33      0.50         3\n",
      "                                         เวฬุ เวสารัช       0.00      0.00      0.00         2\n",
      "                                             เศรษฐกิจ       0.67      0.54      0.60        79\n",
      "                                               แรงงาน       0.87      0.69      0.77       122\n",
      "\n",
      "                                            micro avg       0.84      0.83      0.83      8994\n",
      "                                            macro avg       0.58      0.38      0.44      8994\n",
      "                                         weighted avg       0.83      0.83      0.82      8994\n",
      "                                          samples avg       0.83      0.81      0.81      8994\n",
      "\n"
     ]
    },
    {
     "name": "stderr",
     "output_type": "stream",
     "text": [
      "c:\\Users\\Acer\\anaconda3\\envs\\tf\\lib\\site-packages\\sklearn\\metrics\\_classification.py:1531: UndefinedMetricWarning: Precision is ill-defined and being set to 0.0 in labels with no predicted samples. Use `zero_division` parameter to control this behavior.\n",
      "  _warn_prf(average, modifier, f\"{metric.capitalize()} is\", len(result))\n",
      "c:\\Users\\Acer\\anaconda3\\envs\\tf\\lib\\site-packages\\sklearn\\metrics\\_classification.py:1531: UndefinedMetricWarning: Precision is ill-defined and being set to 0.0 in samples with no predicted labels. Use `zero_division` parameter to control this behavior.\n",
      "  _warn_prf(average, modifier, f\"{metric.capitalize()} is\", len(result))\n",
      "c:\\Users\\Acer\\anaconda3\\envs\\tf\\lib\\site-packages\\sklearn\\metrics\\_classification.py:1531: UndefinedMetricWarning: Recall is ill-defined and being set to 0.0 in samples with no true labels. Use `zero_division` parameter to control this behavior.\n",
      "  _warn_prf(average, modifier, f\"{metric.capitalize()} is\", len(result))\n",
      "c:\\Users\\Acer\\anaconda3\\envs\\tf\\lib\\site-packages\\sklearn\\metrics\\_classification.py:1531: UndefinedMetricWarning: F-score is ill-defined and being set to 0.0 in samples with no true nor predicted labels. Use `zero_division` parameter to control this behavior.\n",
      "  _warn_prf(average, modifier, f\"{metric.capitalize()} is\", len(result))\n"
     ]
    }
   ],
   "source": [
    "\n",
    "\n",
    "# print(classification_report(y_test, y_pred, target_names=label_encoder.classes_))\n",
    "\n",
    "# # สร้างรายงานการจำแนก\n",
    "print(classification_report(y_test, y_pred, target_names=mlb.classes_))"
   ]
  }
 ],
 "metadata": {
  "kernelspec": {
   "display_name": "tf",
   "language": "python",
   "name": "python3"
  },
  "language_info": {
   "codemirror_mode": {
    "name": "ipython",
    "version": 3
   },
   "file_extension": ".py",
   "mimetype": "text/x-python",
   "name": "python",
   "nbconvert_exporter": "python",
   "pygments_lexer": "ipython3",
   "version": "3.9.19"
  }
 },
 "nbformat": 4,
 "nbformat_minor": 2
}
